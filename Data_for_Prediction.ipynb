{
 "cells": [
  {
   "cell_type": "code",
   "execution_count": 0,
   "metadata": {
    "application/vnd.databricks.v1+cell": {
     "cellMetadata": {
      "byteLimit": 2048000,
      "rowLimit": 10000
     },
     "inputWidgets": {},
     "nuid": "aa7f48e1-e0d4-43cd-988b-6165da8e5b04",
     "showTitle": false,
     "title": ""
    }
   },
   "outputs": [],
   "source": [
    "import pandas as pd\n",
    "import seaborn as sns\n",
    "import matplotlib.pyplot as plt\n",
    "import numpy as np"
   ]
  },
  {
   "cell_type": "markdown",
   "metadata": {
    "application/vnd.databricks.v1+cell": {
     "cellMetadata": {
      "byteLimit": 2048000,
      "rowLimit": 10000
     },
     "inputWidgets": {},
     "nuid": "df10ef8d-955a-46df-81c0-876a1987ee85",
     "showTitle": false,
     "title": ""
    }
   },
   "source": [
    "## Importing & Cleaning  Wildfires Dataframe"
   ]
  },
  {
   "cell_type": "code",
   "execution_count": 0,
   "metadata": {
    "application/vnd.databricks.v1+cell": {
     "cellMetadata": {
      "byteLimit": 2048000,
      "rowLimit": 10000
     },
     "inputWidgets": {},
     "nuid": "500d71bf-b823-4e68-933e-4f23e54b90f4",
     "showTitle": false,
     "title": ""
    }
   },
   "outputs": [],
   "source": [
    "Historical_Wildfires_df = spark.read.format('csv').options(header='true').load('dbfs:/FileStore/Prediction_data/Historical_Wildfires.csv').toPandas()\n"
   ]
  },
  {
   "cell_type": "code",
   "execution_count": 0,
   "metadata": {
    "application/vnd.databricks.v1+cell": {
     "cellMetadata": {
      "byteLimit": 2048000,
      "rowLimit": 10000
     },
     "inputWidgets": {},
     "nuid": "7cd90309-f34b-400e-af53-bd3a3b4d89f3",
     "showTitle": false,
     "title": ""
    }
   },
   "outputs": [
    {
     "output_type": "stream",
     "name": "stdout",
     "output_type": "stream",
     "text": [
      "Region                                         object\nDate                                   datetime64[ns]\nEstimated_fire_area                           float64\nMean_estimated_fire_brightness                float64\nMean_estimated_fire_radiative_power           float64\nMean_confidence                               float64\nStd_confidence                                float64\nVar_confidence                                float64\nCount                                         float64\nReplaced                                       object\ndtype: object\n"
     ]
    }
   ],
   "source": [
    "Historical_Wildfires_df['Date'] = pd.to_datetime(Historical_Wildfires_df['Date'])\n",
    "columns_to_convert = [\"Estimated_fire_area\", \"Mean_estimated_fire_brightness\", \n",
    "                      \"Mean_estimated_fire_radiative_power\", \"Mean_confidence\", \n",
    "                      \"Std_confidence\", \"Var_confidence\", \"Count\"]\n",
    "\n",
    "Historical_Wildfires_df[columns_to_convert] = Historical_Wildfires_df[columns_to_convert].astype(float)\n",
    "print(Historical_Wildfires_df.dtypes)"
   ]
  },
  {
   "cell_type": "code",
   "execution_count": 0,
   "metadata": {
    "application/vnd.databricks.v1+cell": {
     "cellMetadata": {
      "byteLimit": 2048000,
      "rowLimit": 10000
     },
     "inputWidgets": {},
     "nuid": "a6383852-7c75-4ff4-9aee-be9cdd0b3914",
     "showTitle": false,
     "title": ""
    }
   },
   "outputs": [],
   "source": [
    "Historical_Wildfires_df['Year'] = Historical_Wildfires_df['Date'].dt.year\n",
    "Historical_Wildfires_df['Month'] = Historical_Wildfires_df['Date'].dt.month"
   ]
  },
  {
   "cell_type": "code",
   "execution_count": 0,
   "metadata": {
    "application/vnd.databricks.v1+cell": {
     "cellMetadata": {
      "byteLimit": 2048000,
      "rowLimit": 10000
     },
     "inputWidgets": {},
     "nuid": "83451729-8128-49f5-85d4-d78fd58c931e",
     "showTitle": false,
     "title": ""
    }
   },
   "outputs": [
    {
     "output_type": "execute_result",
     "data": {
      "text/html": [
       "<div>\n",
       "<style scoped>\n",
       "    .dataframe tbody tr th:only-of-type {\n",
       "        vertical-align: middle;\n",
       "    }\n",
       "\n",
       "    .dataframe tbody tr th {\n",
       "        vertical-align: top;\n",
       "    }\n",
       "\n",
       "    .dataframe thead th {\n",
       "        text-align: right;\n",
       "    }\n",
       "</style>\n",
       "<table border=\"1\" class=\"dataframe\">\n",
       "  <thead>\n",
       "    <tr style=\"text-align: right;\">\n",
       "      <th></th>\n",
       "      <th>Region</th>\n",
       "      <th>Date</th>\n",
       "      <th>Estimated_fire_area</th>\n",
       "      <th>Mean_estimated_fire_brightness</th>\n",
       "      <th>Mean_estimated_fire_radiative_power</th>\n",
       "      <th>Mean_confidence</th>\n",
       "      <th>Std_confidence</th>\n",
       "      <th>Var_confidence</th>\n",
       "      <th>Count</th>\n",
       "      <th>Replaced</th>\n",
       "      <th>Year</th>\n",
       "      <th>Month</th>\n",
       "    </tr>\n",
       "  </thead>\n",
       "  <tbody>\n",
       "    <tr>\n",
       "      <th>26714</th>\n",
       "      <td>WA</td>\n",
       "      <td>2021-01-18</td>\n",
       "      <td>30.800000</td>\n",
       "      <td>330.909091</td>\n",
       "      <td>113.454545</td>\n",
       "      <td>86.636364</td>\n",
       "      <td>7.619353</td>\n",
       "      <td>58.054545</td>\n",
       "      <td>11.0</td>\n",
       "      <td>N</td>\n",
       "      <td>2021</td>\n",
       "      <td>1</td>\n",
       "    </tr>\n",
       "    <tr>\n",
       "      <th>26715</th>\n",
       "      <td>WA</td>\n",
       "      <td>2021-01-19</td>\n",
       "      <td>2.000000</td>\n",
       "      <td>305.950000</td>\n",
       "      <td>15.800000</td>\n",
       "      <td>98.500000</td>\n",
       "      <td>2.121320</td>\n",
       "      <td>4.500000</td>\n",
       "      <td>2.0</td>\n",
       "      <td>N</td>\n",
       "      <td>2021</td>\n",
       "      <td>1</td>\n",
       "    </tr>\n",
       "    <tr>\n",
       "      <th>26716</th>\n",
       "      <td>WA</td>\n",
       "      <td>2021-01-20</td>\n",
       "      <td>6.720000</td>\n",
       "      <td>335.137500</td>\n",
       "      <td>232.325000</td>\n",
       "      <td>94.250000</td>\n",
       "      <td>8.500000</td>\n",
       "      <td>72.250000</td>\n",
       "      <td>4.0</td>\n",
       "      <td>N</td>\n",
       "      <td>2021</td>\n",
       "      <td>1</td>\n",
       "    </tr>\n",
       "    <tr>\n",
       "      <th>26717</th>\n",
       "      <td>WA</td>\n",
       "      <td>2021-01-21</td>\n",
       "      <td>198.362182</td>\n",
       "      <td>326.340909</td>\n",
       "      <td>230.754546</td>\n",
       "      <td>93.363636</td>\n",
       "      <td>6.325620</td>\n",
       "      <td>40.013468</td>\n",
       "      <td>55.0</td>\n",
       "      <td>N</td>\n",
       "      <td>2021</td>\n",
       "      <td>1</td>\n",
       "    </tr>\n",
       "    <tr>\n",
       "      <th>26718</th>\n",
       "      <td>WA</td>\n",
       "      <td>2021-01-22</td>\n",
       "      <td>59.355333</td>\n",
       "      <td>342.960000</td>\n",
       "      <td>124.068889</td>\n",
       "      <td>96.533333</td>\n",
       "      <td>5.860500</td>\n",
       "      <td>34.345455</td>\n",
       "      <td>45.0</td>\n",
       "      <td>N</td>\n",
       "      <td>2021</td>\n",
       "      <td>1</td>\n",
       "    </tr>\n",
       "  </tbody>\n",
       "</table>\n",
       "</div>"
      ],
      "text/plain": [
       "      Region       Date  Estimated_fire_area  ...  Replaced  Year  Month\n",
       "26714     WA 2021-01-18            30.800000  ...         N  2021      1\n",
       "26715     WA 2021-01-19             2.000000  ...         N  2021      1\n",
       "26716     WA 2021-01-20             6.720000  ...         N  2021      1\n",
       "26717     WA 2021-01-21           198.362182  ...         N  2021      1\n",
       "26718     WA 2021-01-22            59.355333  ...         N  2021      1\n",
       "\n",
       "[5 rows x 12 columns]"
      ]
     },
     "execution_count": 5,
     "metadata": {},
     "output_type": "execute_result"
    }
   ],
   "source": [
    "Historical_Wildfires_df.tail(5)"
   ]
  },
  {
   "cell_type": "markdown",
   "metadata": {
    "application/vnd.databricks.v1+cell": {
     "cellMetadata": {
      "byteLimit": 2048000,
      "rowLimit": 10000
     },
     "inputWidgets": {},
     "nuid": "fb3d13b5-d003-4ff4-a25c-792352cb0262",
     "showTitle": false,
     "title": ""
    }
   },
   "source": [
    "#### Estimated fire area will be the target variable for our problem statement. \n",
    "Other columns are diagonistic data that should be deleted as these columns will be generated only after the prediction"
   ]
  },
  {
   "cell_type": "code",
   "execution_count": 0,
   "metadata": {
    "application/vnd.databricks.v1+cell": {
     "cellMetadata": {
      "byteLimit": 2048000,
      "rowLimit": 10000
     },
     "inputWidgets": {},
     "nuid": "9069a607-336b-4748-8be4-a8fad3e8a16a",
     "showTitle": false,
     "title": ""
    }
   },
   "outputs": [],
   "source": [
    "Historical_Wildfires_df.drop(['Var_confidence', 'Mean_confidence', 'Std_confidence', 'Count','Replaced', 'Mean_estimated_fire_radiative_power', 'Mean_estimated_fire_brightness'], axis = 1, inplace=True)\n"
   ]
  },
  {
   "cell_type": "markdown",
   "metadata": {
    "application/vnd.databricks.v1+cell": {
     "cellMetadata": {
      "byteLimit": 2048000,
      "rowLimit": 10000
     },
     "inputWidgets": {},
     "nuid": "8a40cb3b-54b0-4222-8cbb-23dbb71dddf0",
     "showTitle": false,
     "title": ""
    }
   },
   "source": [
    "#### Checking for Negative & Duplicate values"
   ]
  },
  {
   "cell_type": "code",
   "execution_count": 0,
   "metadata": {
    "application/vnd.databricks.v1+cell": {
     "cellMetadata": {
      "byteLimit": 2048000,
      "rowLimit": 10000
     },
     "inputWidgets": {},
     "nuid": "f31e5a93-5437-4b31-b2da-39d00ee24d24",
     "showTitle": false,
     "title": ""
    }
   },
   "outputs": [],
   "source": [
    "Historical_Wildfires_df['Estimated_fire_area'].fillna(0, inplace=True)"
   ]
  },
  {
   "cell_type": "markdown",
   "metadata": {
    "application/vnd.databricks.v1+cell": {
     "cellMetadata": {
      "byteLimit": 2048000,
      "rowLimit": 10000
     },
     "inputWidgets": {},
     "nuid": "c190aa8b-2d9c-4b5c-927a-d29c3d3367a0",
     "showTitle": false,
     "title": ""
    }
   },
   "source": [
    "## Importing & Cleaning Weather Dataframe"
   ]
  },
  {
   "cell_type": "code",
   "execution_count": 0,
   "metadata": {
    "application/vnd.databricks.v1+cell": {
     "cellMetadata": {
      "byteLimit": 2048000,
      "rowLimit": 10000
     },
     "inputWidgets": {},
     "nuid": "27bb6307-0fd2-482d-a5cc-ef20514874ac",
     "showTitle": false,
     "title": ""
    }
   },
   "outputs": [],
   "source": [
    "weather_df = spark.read.format('csv').options(header='true').load('dbfs:/FileStore/Prediction_data/HistoricalWeather.csv').toPandas()"
   ]
  },
  {
   "cell_type": "code",
   "execution_count": 0,
   "metadata": {
    "application/vnd.databricks.v1+cell": {
     "cellMetadata": {
      "byteLimit": 2048000,
      "rowLimit": 10000
     },
     "inputWidgets": {},
     "nuid": "5c5a285c-683d-44a2-9755-e9818ad5902c",
     "showTitle": false,
     "title": ""
    }
   },
   "outputs": [],
   "source": [
    "# Renaming Columns\n",
    "weather_df = weather_df.rename(columns={\"count()[unit: km^2]\": \"Area\", \"min()\": \"Min\",\n",
    "                                       \"max()\": \"Max\", \"mean()\": \"Mean\", \"variance()\": \"Variance\"})\n"
   ]
  },
  {
   "cell_type": "markdown",
   "metadata": {
    "application/vnd.databricks.v1+cell": {
     "cellMetadata": {
      "byteLimit": 2048000,
      "rowLimit": 10000
     },
     "inputWidgets": {},
     "nuid": "155a1107-ecf1-4e18-bd9d-76f04b38381a",
     "showTitle": false,
     "title": ""
    }
   },
   "source": [
    "#### Pivoting the Weather table"
   ]
  },
  {
   "cell_type": "code",
   "execution_count": 0,
   "metadata": {
    "application/vnd.databricks.v1+cell": {
     "cellMetadata": {
      "byteLimit": 2048000,
      "rowLimit": 10000
     },
     "inputWidgets": {},
     "nuid": "6d5226e3-28d7-4745-b522-7b8007a7f742",
     "showTitle": false,
     "title": ""
    }
   },
   "outputs": [],
   "source": [
    "# Reformat the data\n",
    "weather_df['Date'] = pd.to_datetime(weather_df['Date'])\n",
    "df_pivot = weather_df.pivot_table(values=['Min','Max','Mean','Variance'], index=['Date','Region'],\n",
    "                                  columns=['Parameter'])\n",
    "# Reset dataframe index\n",
    "df_pivot.reset_index(inplace=True)\n",
    "\n",
    "# Renaming Column names\n",
    "df_pivot.columns = [col[0] if not(col[1]) else '{1}_{0}'.format(*col) for col in df_pivot.columns.values]\n",
    "\n",
    "# Rearranging Data and column\n",
    "params = df_pivot.columns.tolist()[3:]\n",
    "params.sort()\n",
    "weather_data = df_pivot[df_pivot.columns.tolist()[:3] + params].copy()"
   ]
  },
  {
   "cell_type": "code",
   "execution_count": 0,
   "metadata": {
    "application/vnd.databricks.v1+cell": {
     "cellMetadata": {
      "byteLimit": 2048000,
      "rowLimit": 10000
     },
     "inputWidgets": {},
     "nuid": "c7c36eda-f745-4a0c-8f9d-07a2311533ea",
     "showTitle": false,
     "title": ""
    }
   },
   "outputs": [],
   "source": [
    "# Creating 3 new columns - helpful while joining tables\n",
    "weather_data['Year'] = weather_data['Date'].dt.year\n",
    "weather_data['Month'] = weather_data['Date'].dt.month"
   ]
  },
  {
   "cell_type": "code",
   "execution_count": 0,
   "metadata": {
    "application/vnd.databricks.v1+cell": {
     "cellMetadata": {
      "byteLimit": 2048000,
      "rowLimit": 10000
     },
     "inputWidgets": {},
     "nuid": "e432b54c-dc6d-45e6-9fa5-d46ca4dfdc18",
     "showTitle": false,
     "title": ""
    }
   },
   "outputs": [],
   "source": [
    "# Impute missing values with 0\n",
    "weather_data.fillna(0, inplace=True)"
   ]
  },
  {
   "cell_type": "markdown",
   "metadata": {
    "application/vnd.databricks.v1+cell": {
     "cellMetadata": {
      "byteLimit": 2048000,
      "rowLimit": 10000
     },
     "inputWidgets": {},
     "nuid": "2487cfb4-1ce8-48e9-a778-908eec27b037",
     "showTitle": false,
     "title": ""
    }
   },
   "source": [
    "## Importing & Cleaning  Vegetation Dataframe"
   ]
  },
  {
   "cell_type": "code",
   "execution_count": 0,
   "metadata": {
    "application/vnd.databricks.v1+cell": {
     "cellMetadata": {
      "byteLimit": 2048000,
      "rowLimit": 10000
     },
     "inputWidgets": {},
     "nuid": "1bd8a338-eee0-47cd-a722-a9130ce57e5c",
     "showTitle": false,
     "title": ""
    }
   },
   "outputs": [],
   "source": [
    "VegetationIndex_df = spark.read.format('csv').options(header='true').load('dbfs:/FileStore/Prediction_data/VegetationIndex.csv').toPandas()"
   ]
  },
  {
   "cell_type": "code",
   "execution_count": 0,
   "metadata": {
    "application/vnd.databricks.v1+cell": {
     "cellMetadata": {
      "byteLimit": 2048000,
      "rowLimit": 10000
     },
     "inputWidgets": {},
     "nuid": "667d5c6f-2412-4c3c-a044-1dcb93d74aec",
     "showTitle": false,
     "title": ""
    }
   },
   "outputs": [],
   "source": [
    "# Fixing datatypes and renaming columns\n",
    "VegetationIndex_df['Date'] = pd.to_datetime(VegetationIndex_df['Date'])\n",
    "\n",
    "columns_to_convert = [\"Vegetation_index_mean\", \"Vegetation_index_max\", \n",
    "                      \"Vegetation_index_min\", \"Vegetation_index_std\", \n",
    "                      \"Vegetation_index_variance\"]\n",
    "\n",
    "VegetationIndex_df[columns_to_convert] = VegetationIndex_df[columns_to_convert].astype(float)"
   ]
  },
  {
   "cell_type": "code",
   "execution_count": 0,
   "metadata": {
    "application/vnd.databricks.v1+cell": {
     "cellMetadata": {
      "byteLimit": 2048000,
      "rowLimit": 10000
     },
     "inputWidgets": {},
     "nuid": "e9ca759f-0949-4ca6-a185-b8f3d73ad65c",
     "showTitle": false,
     "title": ""
    }
   },
   "outputs": [],
   "source": [
    "# Creating 3 new columns - helpful while joining tables\n",
    "\n",
    "VegetationIndex_df['Year'] = VegetationIndex_df['Date'].dt.year\n",
    "VegetationIndex_df['Month'] = VegetationIndex_df['Date'].dt.month"
   ]
  },
  {
   "cell_type": "markdown",
   "metadata": {
    "application/vnd.databricks.v1+cell": {
     "cellMetadata": {
      "byteLimit": 2048000,
      "rowLimit": 10000
     },
     "inputWidgets": {},
     "nuid": "3afdfdd2-714f-46df-b95d-1418f0afdda7",
     "showTitle": false,
     "title": ""
    }
   },
   "source": [
    "## Importing & Cleaning Land Class Dataframe"
   ]
  },
  {
   "cell_type": "code",
   "execution_count": 0,
   "metadata": {
    "application/vnd.databricks.v1+cell": {
     "cellMetadata": {
      "byteLimit": 2048000,
      "rowLimit": 10000
     },
     "inputWidgets": {},
     "nuid": "99f09cda-39fc-48aa-972f-8c22d9e2a354",
     "showTitle": false,
     "title": ""
    }
   },
   "outputs": [],
   "source": [
    "LandClass_df = spark.read.format('csv').options(header='true').load('dbfs:/FileStore/Prediction_data/LandClass.csv').toPandas()"
   ]
  },
  {
   "cell_type": "code",
   "execution_count": 0,
   "metadata": {
    "application/vnd.databricks.v1+cell": {
     "cellMetadata": {
      "byteLimit": 2048000,
      "rowLimit": 10000
     },
     "inputWidgets": {},
     "nuid": "1e25bcf8-8c7e-449d-b558-185ee5aac449",
     "showTitle": false,
     "title": ""
    }
   },
   "outputs": [],
   "source": [
    "# Fixing data types\n",
    "columns_to_convert = ['Herbaceous vegetation',\n",
    "                     'Cultivated and managed vegetation/agriculture (cropland)',\n",
    "                     'Urban / built up',\n",
    "                     'Bare / sparse vegetation',\n",
    "                     'Permanent water bodies',\n",
    "                     'Herbaceous wetland',\n",
    "                     'Closed forest, evergreen, broad leaf',\n",
    "                     'Closed forest, deciduous broad leaf',\n",
    "                     'Closed forest, unknown',\n",
    "                     'Open forest, evergreen broad leaf',\n",
    "                     'Open forest, deciduous broad leaf',\n",
    "                     'Open forest, unknown definitions',\n",
    "                     'Open sea']\n",
    "\n",
    "LandClass_df[columns_to_convert] = LandClass_df[columns_to_convert].astype(float)"
   ]
  },
  {
   "cell_type": "markdown",
   "metadata": {
    "application/vnd.databricks.v1+cell": {
     "cellMetadata": {
      "byteLimit": 2048000,
      "rowLimit": 10000
     },
     "inputWidgets": {},
     "nuid": "8482de2a-3c8d-4fe3-8aed-126155e0a497",
     "showTitle": false,
     "title": ""
    }
   },
   "source": [
    "# Exploratory Data Analysis"
   ]
  },
  {
   "cell_type": "markdown",
   "metadata": {
    "application/vnd.databricks.v1+cell": {
     "cellMetadata": {
      "byteLimit": 2048000,
      "rowLimit": 10000
     },
     "inputWidgets": {},
     "nuid": "3e6c8ace-aba3-4467-aede-1e99bc5f5732",
     "showTitle": false,
     "title": ""
    }
   },
   "source": [
    "## Wildfire Dataframe"
   ]
  },
  {
   "cell_type": "markdown",
   "metadata": {
    "application/vnd.databricks.v1+cell": {
     "cellMetadata": {
      "byteLimit": 2048000,
      "rowLimit": 10000
     },
     "inputWidgets": {},
     "nuid": "e3cf76bd-1c35-4e7f-8609-37f9935a0195",
     "showTitle": false,
     "title": ""
    }
   },
   "source": [
    "### Visualizing Estimated_fire_area over the years"
   ]
  },
  {
   "cell_type": "markdown",
   "metadata": {
    "application/vnd.databricks.v1+cell": {
     "cellMetadata": {
      "byteLimit": 2048000,
      "rowLimit": 10000
     },
     "inputWidgets": {},
     "nuid": "6676720a-3464-4ae9-8d36-fac51117623a",
     "showTitle": false,
     "title": ""
    }
   },
   "source": [
    "#### Fixing Ouliers - Imputing values higher than 3000 with 3000"
   ]
  },
  {
   "cell_type": "code",
   "execution_count": 0,
   "metadata": {
    "application/vnd.databricks.v1+cell": {
     "cellMetadata": {
      "byteLimit": 2048000,
      "rowLimit": 10000
     },
     "inputWidgets": {},
     "nuid": "8f7db609-2810-4973-8092-a8cb51654bd4",
     "showTitle": false,
     "title": ""
    }
   },
   "outputs": [],
   "source": [
    "Historical_Wildfires_df.loc[Historical_Wildfires_df['Estimated_fire_area'] > 3000, 'Estimated_fire_area'] = 3000"
   ]
  },
  {
   "cell_type": "markdown",
   "metadata": {
    "application/vnd.databricks.v1+cell": {
     "cellMetadata": {
      "byteLimit": 2048000,
      "rowLimit": 10000
     },
     "inputWidgets": {},
     "nuid": "3adf1146-642e-470d-8d4c-88f1bf95545f",
     "showTitle": false,
     "title": ""
    }
   },
   "source": [
    "### Visualizing Estimated_fire_area over the Months"
   ]
  },
  {
   "cell_type": "markdown",
   "metadata": {
    "application/vnd.databricks.v1+cell": {
     "cellMetadata": {
      "byteLimit": 2048000,
      "rowLimit": 10000
     },
     "inputWidgets": {},
     "nuid": "d55de66f-570d-41ec-a299-b14f047409e6",
     "showTitle": false,
     "title": ""
    }
   },
   "source": [
    "### Visualizing fire area for a Year"
   ]
  },
  {
   "cell_type": "markdown",
   "metadata": {
    "application/vnd.databricks.v1+cell": {
     "cellMetadata": {
      "byteLimit": 2048000,
      "rowLimit": 10000
     },
     "inputWidgets": {},
     "nuid": "1129aba3-c415-4fc2-b333-2b144a67e1ed",
     "showTitle": false,
     "title": ""
    }
   },
   "source": [
    "## Weather Dataframe"
   ]
  },
  {
   "cell_type": "markdown",
   "metadata": {
    "application/vnd.databricks.v1+cell": {
     "cellMetadata": {
      "byteLimit": 2048000,
      "rowLimit": 10000
     },
     "inputWidgets": {},
     "nuid": "ba33b5bc-96aa-4fe8-a696-958cf54537c4",
     "showTitle": false,
     "title": ""
    }
   },
   "source": [
    "## Vegetation Dataframe"
   ]
  },
  {
   "cell_type": "markdown",
   "metadata": {
    "application/vnd.databricks.v1+cell": {
     "cellMetadata": {
      "byteLimit": 2048000,
      "rowLimit": 10000
     },
     "inputWidgets": {},
     "nuid": "4dab7cb9-4aec-43a2-a893-ce9ead2eec64",
     "showTitle": false,
     "title": ""
    }
   },
   "source": [
    "#### Checking for Missing values"
   ]
  },
  {
   "cell_type": "markdown",
   "metadata": {
    "application/vnd.databricks.v1+cell": {
     "cellMetadata": {
      "byteLimit": 2048000,
      "rowLimit": 10000
     },
     "inputWidgets": {},
     "nuid": "5a1a0c78-1e00-4a9f-91ce-771a58a55bc2",
     "showTitle": false,
     "title": ""
    }
   },
   "source": [
    "### Vegetation Index by Region"
   ]
  },
  {
   "cell_type": "markdown",
   "metadata": {
    "application/vnd.databricks.v1+cell": {
     "cellMetadata": {
      "byteLimit": 2048000,
      "rowLimit": 10000
     },
     "inputWidgets": {},
     "nuid": "59b27b09-7d92-4e46-bc57-0a243ad4807c",
     "showTitle": false,
     "title": ""
    }
   },
   "source": [
    "# Feature Engineering"
   ]
  },
  {
   "cell_type": "markdown",
   "metadata": {
    "application/vnd.databricks.v1+cell": {
     "cellMetadata": {
      "byteLimit": 2048000,
      "rowLimit": 10000
     },
     "inputWidgets": {},
     "nuid": "6d2fcfe2-7cac-4be5-ab98-c7ebb14176e2",
     "showTitle": false,
     "title": ""
    }
   },
   "source": [
    "## Correlations\n",
    "### Landclass Dataframe"
   ]
  },
  {
   "cell_type": "code",
   "execution_count": 0,
   "metadata": {
    "application/vnd.databricks.v1+cell": {
     "cellMetadata": {
      "byteLimit": 2048000,
      "rowLimit": 10000
     },
     "inputWidgets": {},
     "nuid": "be7067f3-db0d-4020-8252-54ef9c507d54",
     "showTitle": false,
     "title": ""
    }
   },
   "outputs": [],
   "source": [
    "# Dropping columns - Multicollinearity\n",
    "LandClass_data = LandClass_df.drop(['Urban / built up', 'Open forest, evergreen broad leaf','Herbaceous vegetation', 'Open sea', 'Closed forest, evergreen, broad leaf', 'Herbaceous wetland','Open forest, deciduous broad leaf','Open forest, unknown definitions','Closed forest, unknown' ], axis = 1)"
   ]
  },
  {
   "cell_type": "markdown",
   "metadata": {
    "application/vnd.databricks.v1+cell": {
     "cellMetadata": {
      "byteLimit": 2048000,
      "rowLimit": 10000
     },
     "inputWidgets": {},
     "nuid": "ca2fbdd5-0338-4fc5-9469-b91cc066f031",
     "showTitle": false,
     "title": ""
    }
   },
   "source": [
    "### Weather Dataframe"
   ]
  },
  {
   "cell_type": "code",
   "execution_count": 0,
   "metadata": {
    "application/vnd.databricks.v1+cell": {
     "cellMetadata": {
      "byteLimit": 2048000,
      "rowLimit": 10000
     },
     "inputWidgets": {},
     "nuid": "3f049259-892f-4347-973e-a5cea34e7ad5",
     "showTitle": false,
     "title": ""
    }
   },
   "outputs": [],
   "source": [
    "# Dropping columns - Multicollinearity\n",
    "weather_df1 = weather_data.drop(['Precipitation_Variance', 'RelativeHumidity_Variance', 'SoilWaterContent_Variance', 'SolarRadiation_Variance','SolarRadiation_Min', 'Temperature_Variance', 'WindSpeed_Variance', 'RelativeHumidity_Min', 'RelativeHumidity_Max', 'SolarRadiation_Max', 'Temperature_Min', 'Temperature_Max', 'SoilWaterContent_Mean', 'WindSpeed_Min'], axis=1)"
   ]
  },
  {
   "cell_type": "markdown",
   "metadata": {
    "application/vnd.databricks.v1+cell": {
     "cellMetadata": {
      "byteLimit": 2048000,
      "rowLimit": 10000
     },
     "inputWidgets": {},
     "nuid": "7e59a6aa-a566-491a-b27e-d6279e841ce1",
     "showTitle": false,
     "title": ""
    }
   },
   "source": [
    "### Vegetation Dataframe"
   ]
  },
  {
   "cell_type": "code",
   "execution_count": 0,
   "metadata": {
    "application/vnd.databricks.v1+cell": {
     "cellMetadata": {
      "byteLimit": 2048000,
      "rowLimit": 10000
     },
     "inputWidgets": {},
     "nuid": "ff738312-d209-4650-b543-93430c8459df",
     "showTitle": false,
     "title": ""
    }
   },
   "outputs": [],
   "source": [
    "# Dropping due to Multicollinearity\n",
    "VegetationIndex_df.drop(['Vegetation_index_variance'], inplace=True, axis=1)"
   ]
  },
  {
   "cell_type": "markdown",
   "metadata": {
    "application/vnd.databricks.v1+cell": {
     "cellMetadata": {
      "byteLimit": 2048000,
      "rowLimit": 10000
     },
     "inputWidgets": {},
     "nuid": "542be066-3b80-4ab1-bd3d-74cf2ab7b2f4",
     "showTitle": false,
     "title": ""
    }
   },
   "source": [
    "# Joining the tables"
   ]
  },
  {
   "cell_type": "code",
   "execution_count": 0,
   "metadata": {
    "application/vnd.databricks.v1+cell": {
     "cellMetadata": {
      "byteLimit": 2048000,
      "rowLimit": 10000
     },
     "inputWidgets": {},
     "nuid": "520a2c8e-6193-4e1b-a793-634939a38740",
     "showTitle": false,
     "title": ""
    }
   },
   "outputs": [],
   "source": [
    "df_all1 = weather_df1.join(LandClass_data.set_index('Region'), on='Region', how='left')"
   ]
  },
  {
   "cell_type": "code",
   "execution_count": 0,
   "metadata": {
    "application/vnd.databricks.v1+cell": {
     "cellMetadata": {
      "byteLimit": 2048000,
      "rowLimit": 10000
     },
     "inputWidgets": {},
     "nuid": "80d78a11-c484-4730-b18e-2e030cbf61bd",
     "showTitle": false,
     "title": ""
    }
   },
   "outputs": [],
   "source": [
    "df_all2 = pd.merge(df_all1, VegetationIndex_df, on=['Region', 'Year', 'Month'], how='left')"
   ]
  },
  {
   "cell_type": "code",
   "execution_count": 0,
   "metadata": {
    "application/vnd.databricks.v1+cell": {
     "cellMetadata": {
      "byteLimit": 2048000,
      "rowLimit": 10000
     },
     "inputWidgets": {},
     "nuid": "41cb4d06-a9f8-4cef-ab4a-74a2adbc4385",
     "showTitle": false,
     "title": ""
    }
   },
   "outputs": [],
   "source": [
    "df_all2.drop(['Date_y'], axis=1,inplace=True )\n",
    "df_all2.rename(columns={'Date_x': 'Date'}, inplace=True)"
   ]
  },
  {
   "cell_type": "code",
   "execution_count": 0,
   "metadata": {
    "application/vnd.databricks.v1+cell": {
     "cellMetadata": {
      "byteLimit": 2048000,
      "rowLimit": 10000
     },
     "inputWidgets": {},
     "nuid": "630d7f66-cff6-468a-b915-8e398d833787",
     "showTitle": false,
     "title": ""
    }
   },
   "outputs": [],
   "source": [
    "df_all = pd.merge(df_all2, Historical_Wildfires_df, on=['Region', 'Date'], how='left')"
   ]
  },
  {
   "cell_type": "code",
   "execution_count": 0,
   "metadata": {
    "application/vnd.databricks.v1+cell": {
     "cellMetadata": {
      "byteLimit": 2048000,
      "rowLimit": 10000
     },
     "inputWidgets": {},
     "nuid": "9f34ae44-ce9e-46e0-b089-14b39c047a35",
     "showTitle": false,
     "title": ""
    }
   },
   "outputs": [],
   "source": [
    "df_all.drop(['Year_y', 'Month_y'], axis = 1, inplace=True)\n",
    "df_all.rename(columns={'Year_x': 'Year', 'Month_x': 'Month'}, inplace=True)"
   ]
  },
  {
   "cell_type": "code",
   "execution_count": 0,
   "metadata": {
    "application/vnd.databricks.v1+cell": {
     "cellMetadata": {
      "byteLimit": 2048000,
      "rowLimit": 10000
     },
     "inputWidgets": {},
     "nuid": "c4135a84-1102-4d62-8fbc-2a299ac4173b",
     "showTitle": false,
     "title": ""
    }
   },
   "outputs": [
    {
     "output_type": "execute_result",
     "data": {
      "text/plain": [
       "Date                                                            0\n",
       "Region                                                          0\n",
       "Precipitation_Max                                               0\n",
       "Precipitation_Mean                                              0\n",
       "Precipitation_Min                                               0\n",
       "RelativeHumidity_Mean                                           0\n",
       "SoilWaterContent_Max                                            0\n",
       "SoilWaterContent_Min                                            0\n",
       "SolarRadiation_Mean                                             0\n",
       "Temperature_Mean                                                0\n",
       "WindSpeed_Max                                                   0\n",
       "WindSpeed_Mean                                                  0\n",
       "Year                                                            0\n",
       "Month                                                           0\n",
       "Shrubs                                                          0\n",
       "Cultivated and managed vegetation/agriculture (cropland)        0\n",
       "Bare / sparse vegetation                                        0\n",
       "Permanent water bodies                                          0\n",
       "Closed forest, deciduous broad leaf                             0\n",
       "Vegetation_index_mean                                         105\n",
       "Vegetation_index_max                                          105\n",
       "Vegetation_index_min                                          105\n",
       "Vegetation_index_std                                          105\n",
       "Estimated_fire_area                                         14325\n",
       "dtype: int64"
      ]
     },
     "execution_count": 27,
     "metadata": {},
     "output_type": "execute_result"
    }
   ],
   "source": [
    "# Check for missing values in df_all\n",
    "df_all.isnull().sum()"
   ]
  },
  {
   "cell_type": "markdown",
   "metadata": {
    "application/vnd.databricks.v1+cell": {
     "cellMetadata": {
      "byteLimit": 2048000,
      "rowLimit": 10000
     },
     "inputWidgets": {},
     "nuid": "3fb13905-7f01-4712-b54f-9e17c55a68b9",
     "showTitle": false,
     "title": ""
    }
   },
   "source": [
    "The missing values indicate that there were no forest fires during those dates. So imputing the area with o"
   ]
  },
  {
   "cell_type": "code",
   "execution_count": 0,
   "metadata": {
    "application/vnd.databricks.v1+cell": {
     "cellMetadata": {
      "byteLimit": 2048000,
      "rowLimit": 10000
     },
     "inputWidgets": {},
     "nuid": "e9b0772b-81d8-421f-82eb-978c962eff50",
     "showTitle": false,
     "title": ""
    }
   },
   "outputs": [],
   "source": [
    "df_all['Estimated_fire_area'].fillna(0, inplace=True)"
   ]
  },
  {
   "cell_type": "markdown",
   "metadata": {
    "application/vnd.databricks.v1+cell": {
     "cellMetadata": {
      "byteLimit": 2048000,
      "rowLimit": 10000
     },
     "inputWidgets": {},
     "nuid": "a45235fc-ebcf-4b84-94ca-3b81afa74cb4",
     "showTitle": false,
     "title": ""
    }
   },
   "source": [
    "### Checking for Correlation in the final Dataset"
   ]
  },
  {
   "cell_type": "markdown",
   "metadata": {
    "application/vnd.databricks.v1+cell": {
     "cellMetadata": {
      "byteLimit": 2048000,
      "rowLimit": 10000
     },
     "inputWidgets": {},
     "nuid": "8a4c204a-be0f-4d01-a478-bc3c4ab4a761",
     "showTitle": false,
     "title": ""
    }
   },
   "source": [
    "## Normalizing the Dataset"
   ]
  },
  {
   "cell_type": "code",
   "execution_count": 0,
   "metadata": {
    "application/vnd.databricks.v1+cell": {
     "cellMetadata": {
      "byteLimit": 2048000,
      "rowLimit": 10000
     },
     "inputWidgets": {},
     "nuid": "5842de0e-d97b-47b5-a9d4-1f0082739d3b",
     "showTitle": false,
     "title": ""
    }
   },
   "outputs": [],
   "source": [
    "from sklearn.preprocessing import StandardScaler\n",
    "from sklearn.preprocessing import LabelEncoder\n"
   ]
  },
  {
   "cell_type": "markdown",
   "metadata": {
    "application/vnd.databricks.v1+cell": {
     "cellMetadata": {
      "byteLimit": 2048000,
      "rowLimit": 10000
     },
     "inputWidgets": {},
     "nuid": "497610d8-6a2a-4c50-a5ee-52e9b6adb414",
     "showTitle": false,
     "title": ""
    }
   },
   "source": [
    "### LabelEncoding"
   ]
  },
  {
   "cell_type": "code",
   "execution_count": 0,
   "metadata": {
    "application/vnd.databricks.v1+cell": {
     "cellMetadata": {
      "byteLimit": 2048000,
      "rowLimit": 10000
     },
     "inputWidgets": {},
     "nuid": "65396c34-7e0e-4923-978c-9bee0bc444ce",
     "showTitle": false,
     "title": ""
    }
   },
   "outputs": [
    {
     "output_type": "stream",
     "name": "stdout",
     "output_type": "stream",
     "text": [
      "Region Label Mapping: {'NSW': 0, 'NT': 1, 'QL': 2, 'SA': 3, 'TA': 4, 'VI': 5, 'WA': 6}\n"
     ]
    }
   ],
   "source": [
    "label_encoder = LabelEncoder()\n",
    "\n",
    "# Fit and transform both 'Region' and 'Shrubs' columns\n",
    "df_all['Region'] = label_encoder.fit_transform(df_all['Region'])\n",
    "\n",
    "# Now, you can generate label mappings\n",
    "region_label_mapping = dict(zip(label_encoder.classes_, label_encoder.transform(label_encoder.classes_)))\n",
    "\n",
    "\n",
    "print(\"Region Label Mapping:\", region_label_mapping)"
   ]
  },
  {
   "cell_type": "code",
   "execution_count": 0,
   "metadata": {
    "application/vnd.databricks.v1+cell": {
     "cellMetadata": {
      "byteLimit": 2048000,
      "rowLimit": 10000
     },
     "inputWidgets": {},
     "nuid": "cb940884-79b6-4c74-8d26-94ea2c57816a",
     "showTitle": false,
     "title": ""
    }
   },
   "outputs": [],
   "source": [
    "df_all.columns = df_all.columns.str.replace('[,;{}()\\n\\t= ]', '_', regex=True)"
   ]
  },
  {
   "cell_type": "code",
   "execution_count": 0,
   "metadata": {
    "application/vnd.databricks.v1+cell": {
     "cellMetadata": {
      "byteLimit": 2048000,
      "rowLimit": 10000
     },
     "inputWidgets": {},
     "nuid": "37fccac7-406d-41e9-a982-b306f49be367",
     "showTitle": false,
     "title": ""
    }
   },
   "outputs": [
    {
     "output_type": "execute_result",
     "data": {
      "text/html": [
       "<div>\n",
       "<style scoped>\n",
       "    .dataframe tbody tr th:only-of-type {\n",
       "        vertical-align: middle;\n",
       "    }\n",
       "\n",
       "    .dataframe tbody tr th {\n",
       "        vertical-align: top;\n",
       "    }\n",
       "\n",
       "    .dataframe thead th {\n",
       "        text-align: right;\n",
       "    }\n",
       "</style>\n",
       "<table border=\"1\" class=\"dataframe\">\n",
       "  <thead>\n",
       "    <tr style=\"text-align: right;\">\n",
       "      <th></th>\n",
       "      <th>Date</th>\n",
       "      <th>Region</th>\n",
       "      <th>Precipitation_Max</th>\n",
       "      <th>Precipitation_Mean</th>\n",
       "      <th>Precipitation_Min</th>\n",
       "      <th>RelativeHumidity_Mean</th>\n",
       "      <th>SoilWaterContent_Max</th>\n",
       "      <th>SoilWaterContent_Min</th>\n",
       "      <th>SolarRadiation_Mean</th>\n",
       "      <th>Temperature_Mean</th>\n",
       "      <th>WindSpeed_Max</th>\n",
       "      <th>WindSpeed_Mean</th>\n",
       "      <th>Year</th>\n",
       "      <th>Month</th>\n",
       "      <th>Shrubs</th>\n",
       "      <th>Cultivated_and_managed_vegetation/agriculture__cropland_</th>\n",
       "      <th>Bare_/_sparse_vegetation</th>\n",
       "      <th>Permanent_water_bodies</th>\n",
       "      <th>Closed_forest__deciduous_broad_leaf</th>\n",
       "      <th>Vegetation_index_mean</th>\n",
       "      <th>Vegetation_index_max</th>\n",
       "      <th>Vegetation_index_min</th>\n",
       "      <th>Vegetation_index_std</th>\n",
       "      <th>Estimated_fire_area</th>\n",
       "    </tr>\n",
       "  </thead>\n",
       "  <tbody>\n",
       "    <tr>\n",
       "      <th>0</th>\n",
       "      <td>2005-01-01</td>\n",
       "      <td>0</td>\n",
       "      <td>1.836935</td>\n",
       "      <td>0.044274</td>\n",
       "      <td>0.000000</td>\n",
       "      <td>36.355567</td>\n",
       "      <td>0.414305</td>\n",
       "      <td>0.002245</td>\n",
       "      <td>26.749389</td>\n",
       "      <td>27.341182</td>\n",
       "      <td>7.670482</td>\n",
       "      <td>3.323550</td>\n",
       "      <td>2005</td>\n",
       "      <td>1</td>\n",
       "      <td>6.2</td>\n",
       "      <td>13.0</td>\n",
       "      <td>0.2</td>\n",
       "      <td>0.2</td>\n",
       "      <td>6.8</td>\n",
       "      <td>0.349202</td>\n",
       "      <td>0.9972</td>\n",
       "      <td>-0.2</td>\n",
       "      <td>0.204862</td>\n",
       "      <td>0.000000</td>\n",
       "    </tr>\n",
       "    <tr>\n",
       "      <th>1</th>\n",
       "      <td>2005-01-01</td>\n",
       "      <td>1</td>\n",
       "      <td>315.266815</td>\n",
       "      <td>9.884958</td>\n",
       "      <td>0.000000</td>\n",
       "      <td>61.494675</td>\n",
       "      <td>0.496140</td>\n",
       "      <td>0.000000</td>\n",
       "      <td>19.781791</td>\n",
       "      <td>29.881492</td>\n",
       "      <td>9.704402</td>\n",
       "      <td>5.296892</td>\n",
       "      <td>2005</td>\n",
       "      <td>1</td>\n",
       "      <td>18.1</td>\n",
       "      <td>0.1</td>\n",
       "      <td>0.4</td>\n",
       "      <td>0.1</td>\n",
       "      <td>7.7</td>\n",
       "      <td>0.300478</td>\n",
       "      <td>0.9986</td>\n",
       "      <td>-0.2</td>\n",
       "      <td>0.152621</td>\n",
       "      <td>4.945000</td>\n",
       "    </tr>\n",
       "    <tr>\n",
       "      <th>2</th>\n",
       "      <td>2005-01-01</td>\n",
       "      <td>2</td>\n",
       "      <td>74.452164</td>\n",
       "      <td>1.453053</td>\n",
       "      <td>0.000000</td>\n",
       "      <td>47.959364</td>\n",
       "      <td>0.472416</td>\n",
       "      <td>0.000000</td>\n",
       "      <td>27.056979</td>\n",
       "      <td>28.842866</td>\n",
       "      <td>7.675632</td>\n",
       "      <td>3.483753</td>\n",
       "      <td>2005</td>\n",
       "      <td>1</td>\n",
       "      <td>9.5</td>\n",
       "      <td>1.6</td>\n",
       "      <td>1.1</td>\n",
       "      <td>0.1</td>\n",
       "      <td>13.3</td>\n",
       "      <td>0.357081</td>\n",
       "      <td>0.9995</td>\n",
       "      <td>-0.2</td>\n",
       "      <td>0.181695</td>\n",
       "      <td>38.831579</td>\n",
       "    </tr>\n",
       "    <tr>\n",
       "      <th>3</th>\n",
       "      <td>2005-01-01</td>\n",
       "      <td>3</td>\n",
       "      <td>3.193624</td>\n",
       "      <td>0.059078</td>\n",
       "      <td>0.000000</td>\n",
       "      <td>30.057683</td>\n",
       "      <td>0.263911</td>\n",
       "      <td>0.000000</td>\n",
       "      <td>27.142643</td>\n",
       "      <td>30.793675</td>\n",
       "      <td>10.044715</td>\n",
       "      <td>4.657538</td>\n",
       "      <td>2005</td>\n",
       "      <td>1</td>\n",
       "      <td>24.1</td>\n",
       "      <td>5.8</td>\n",
       "      <td>4.8</td>\n",
       "      <td>1.2</td>\n",
       "      <td>1.3</td>\n",
       "      <td>0.179208</td>\n",
       "      <td>0.9634</td>\n",
       "      <td>-0.2</td>\n",
       "      <td>0.076393</td>\n",
       "      <td>0.000000</td>\n",
       "    </tr>\n",
       "    <tr>\n",
       "      <th>4</th>\n",
       "      <td>2005-01-01</td>\n",
       "      <td>4</td>\n",
       "      <td>13.604791</td>\n",
       "      <td>3.099497</td>\n",
       "      <td>0.003973</td>\n",
       "      <td>65.086764</td>\n",
       "      <td>0.368189</td>\n",
       "      <td>0.000000</td>\n",
       "      <td>26.755711</td>\n",
       "      <td>11.788805</td>\n",
       "      <td>11.432408</td>\n",
       "      <td>5.408138</td>\n",
       "      <td>2005</td>\n",
       "      <td>1</td>\n",
       "      <td>0.7</td>\n",
       "      <td>1.2</td>\n",
       "      <td>0.1</td>\n",
       "      <td>1.9</td>\n",
       "      <td>0.6</td>\n",
       "      <td>0.638585</td>\n",
       "      <td>0.9920</td>\n",
       "      <td>-0.2</td>\n",
       "      <td>0.169840</td>\n",
       "      <td>0.000000</td>\n",
       "    </tr>\n",
       "    <tr>\n",
       "      <th>...</th>\n",
       "      <td>...</td>\n",
       "      <td>...</td>\n",
       "      <td>...</td>\n",
       "      <td>...</td>\n",
       "      <td>...</td>\n",
       "      <td>...</td>\n",
       "      <td>...</td>\n",
       "      <td>...</td>\n",
       "      <td>...</td>\n",
       "      <td>...</td>\n",
       "      <td>...</td>\n",
       "      <td>...</td>\n",
       "      <td>...</td>\n",
       "      <td>...</td>\n",
       "      <td>...</td>\n",
       "      <td>...</td>\n",
       "      <td>...</td>\n",
       "      <td>...</td>\n",
       "      <td>...</td>\n",
       "      <td>...</td>\n",
       "      <td>...</td>\n",
       "      <td>...</td>\n",
       "      <td>...</td>\n",
       "      <td>...</td>\n",
       "    </tr>\n",
       "    <tr>\n",
       "      <th>41008</th>\n",
       "      <td>2021-01-18</td>\n",
       "      <td>2</td>\n",
       "      <td>123.589638</td>\n",
       "      <td>5.015143</td>\n",
       "      <td>0.000000</td>\n",
       "      <td>56.017548</td>\n",
       "      <td>0.482571</td>\n",
       "      <td>0.000000</td>\n",
       "      <td>23.719916</td>\n",
       "      <td>27.882091</td>\n",
       "      <td>7.001957</td>\n",
       "      <td>3.194751</td>\n",
       "      <td>2021</td>\n",
       "      <td>1</td>\n",
       "      <td>9.5</td>\n",
       "      <td>1.6</td>\n",
       "      <td>1.1</td>\n",
       "      <td>0.1</td>\n",
       "      <td>13.3</td>\n",
       "      <td>NaN</td>\n",
       "      <td>NaN</td>\n",
       "      <td>NaN</td>\n",
       "      <td>NaN</td>\n",
       "      <td>4.000000</td>\n",
       "    </tr>\n",
       "    <tr>\n",
       "      <th>41009</th>\n",
       "      <td>2021-01-18</td>\n",
       "      <td>3</td>\n",
       "      <td>0.641580</td>\n",
       "      <td>0.002903</td>\n",
       "      <td>0.000000</td>\n",
       "      <td>41.457791</td>\n",
       "      <td>0.276328</td>\n",
       "      <td>0.000000</td>\n",
       "      <td>31.064747</td>\n",
       "      <td>23.793725</td>\n",
       "      <td>8.083969</td>\n",
       "      <td>4.976130</td>\n",
       "      <td>2021</td>\n",
       "      <td>1</td>\n",
       "      <td>24.1</td>\n",
       "      <td>5.8</td>\n",
       "      <td>4.8</td>\n",
       "      <td>1.2</td>\n",
       "      <td>1.3</td>\n",
       "      <td>NaN</td>\n",
       "      <td>NaN</td>\n",
       "      <td>NaN</td>\n",
       "      <td>NaN</td>\n",
       "      <td>1.430000</td>\n",
       "    </tr>\n",
       "    <tr>\n",
       "      <th>41010</th>\n",
       "      <td>2021-01-18</td>\n",
       "      <td>4</td>\n",
       "      <td>5.923707</td>\n",
       "      <td>1.386855</td>\n",
       "      <td>0.000000</td>\n",
       "      <td>63.776395</td>\n",
       "      <td>0.413248</td>\n",
       "      <td>0.000000</td>\n",
       "      <td>19.137688</td>\n",
       "      <td>11.530871</td>\n",
       "      <td>17.569241</td>\n",
       "      <td>7.163571</td>\n",
       "      <td>2021</td>\n",
       "      <td>1</td>\n",
       "      <td>0.7</td>\n",
       "      <td>1.2</td>\n",
       "      <td>0.1</td>\n",
       "      <td>1.9</td>\n",
       "      <td>0.6</td>\n",
       "      <td>NaN</td>\n",
       "      <td>NaN</td>\n",
       "      <td>NaN</td>\n",
       "      <td>NaN</td>\n",
       "      <td>0.000000</td>\n",
       "    </tr>\n",
       "    <tr>\n",
       "      <th>41011</th>\n",
       "      <td>2021-01-18</td>\n",
       "      <td>5</td>\n",
       "      <td>2.398288</td>\n",
       "      <td>0.120829</td>\n",
       "      <td>0.000000</td>\n",
       "      <td>60.200831</td>\n",
       "      <td>0.393214</td>\n",
       "      <td>0.000000</td>\n",
       "      <td>28.730524</td>\n",
       "      <td>17.403762</td>\n",
       "      <td>13.024096</td>\n",
       "      <td>5.066601</td>\n",
       "      <td>2021</td>\n",
       "      <td>1</td>\n",
       "      <td>1.4</td>\n",
       "      <td>23.3</td>\n",
       "      <td>0.1</td>\n",
       "      <td>0.6</td>\n",
       "      <td>3.8</td>\n",
       "      <td>NaN</td>\n",
       "      <td>NaN</td>\n",
       "      <td>NaN</td>\n",
       "      <td>NaN</td>\n",
       "      <td>1.000000</td>\n",
       "    </tr>\n",
       "    <tr>\n",
       "      <th>41012</th>\n",
       "      <td>2021-01-18</td>\n",
       "      <td>6</td>\n",
       "      <td>22.668976</td>\n",
       "      <td>0.151120</td>\n",
       "      <td>0.000000</td>\n",
       "      <td>31.117912</td>\n",
       "      <td>0.338951</td>\n",
       "      <td>0.000000</td>\n",
       "      <td>26.931745</td>\n",
       "      <td>29.404902</td>\n",
       "      <td>8.315263</td>\n",
       "      <td>4.816861</td>\n",
       "      <td>2021</td>\n",
       "      <td>1</td>\n",
       "      <td>31.3</td>\n",
       "      <td>5.6</td>\n",
       "      <td>1.0</td>\n",
       "      <td>0.4</td>\n",
       "      <td>2.4</td>\n",
       "      <td>NaN</td>\n",
       "      <td>NaN</td>\n",
       "      <td>NaN</td>\n",
       "      <td>NaN</td>\n",
       "      <td>30.800000</td>\n",
       "    </tr>\n",
       "  </tbody>\n",
       "</table>\n",
       "<p>41013 rows × 24 columns</p>\n",
       "</div>"
      ],
      "text/plain": [
       "            Date  Region  ...  Vegetation_index_std  Estimated_fire_area\n",
       "0     2005-01-01       0  ...              0.204862             0.000000\n",
       "1     2005-01-01       1  ...              0.152621             4.945000\n",
       "2     2005-01-01       2  ...              0.181695            38.831579\n",
       "3     2005-01-01       3  ...              0.076393             0.000000\n",
       "4     2005-01-01       4  ...              0.169840             0.000000\n",
       "...          ...     ...  ...                   ...                  ...\n",
       "41008 2021-01-18       2  ...                   NaN             4.000000\n",
       "41009 2021-01-18       3  ...                   NaN             1.430000\n",
       "41010 2021-01-18       4  ...                   NaN             0.000000\n",
       "41011 2021-01-18       5  ...                   NaN             1.000000\n",
       "41012 2021-01-18       6  ...                   NaN            30.800000\n",
       "\n",
       "[41013 rows x 24 columns]"
      ]
     },
     "execution_count": 32,
     "metadata": {},
     "output_type": "execute_result"
    }
   ],
   "source": [
    "df_all"
   ]
  },
  {
   "cell_type": "code",
   "execution_count": 0,
   "metadata": {
    "application/vnd.databricks.v1+cell": {
     "cellMetadata": {
      "byteLimit": 2048000,
      "rowLimit": 10000
     },
     "inputWidgets": {},
     "nuid": "6fa6166b-71ef-48ac-96c2-af9a5393a8a7",
     "showTitle": false,
     "title": ""
    }
   },
   "outputs": [],
   "source": [
    "fullpredictiondata = df_all[df_all['Date'] > '2020-10-31 00:00:00']"
   ]
  },
  {
   "cell_type": "code",
   "execution_count": 0,
   "metadata": {
    "application/vnd.databricks.v1+cell": {
     "cellMetadata": {
      "byteLimit": 2048000,
      "rowLimit": 10000
     },
     "inputWidgets": {},
     "nuid": "5df3b5c9-53ea-493c-9ab8-02e03d7a8f04",
     "showTitle": false,
     "title": ""
    }
   },
   "outputs": [
    {
     "output_type": "stream",
     "name": "stderr",
     "output_type": "stream",
     "text": [
      "/root/.ipykernel/44817/command-2453183741896277-3641393684:1: SettingWithCopyWarning: \nA value is trying to be set on a copy of a slice from a DataFrame\n\nSee the caveats in the documentation: https://pandas.pydata.org/pandas-docs/stable/user_guide/indexing.html#returning-a-view-versus-a-copy\n  fullpredictiondata.drop(['Estimated_fire_area'], axis = 1, inplace=True)\n"
     ]
    }
   ],
   "source": [
    "fullpredictiondata.drop(['Estimated_fire_area', 'RelativeHumidity_Mean'], axis = 1, inplace=True)\n"
   ]
  },
  {
   "cell_type": "code",
   "execution_count": 0,
   "metadata": {
    "application/vnd.databricks.v1+cell": {
     "cellMetadata": {
      "byteLimit": 2048000,
      "rowLimit": 10000
     },
     "inputWidgets": {},
     "nuid": "9d553e0c-a8ce-4b5e-8e8d-a6def8319e05",
     "showTitle": false,
     "title": ""
    }
   },
   "outputs": [],
   "source": [
    "# Generating 7 different dataframes based on the values of Region\n",
    "NSW_predictiondata = fullpredictiondata[fullpredictiondata['Region'] == 0]\n",
    "NT_predictiondata = fullpredictiondata[fullpredictiondata['Region'] == 1]\n",
    "QL_predictiondata = fullpredictiondata[fullpredictiondata['Region'] == 2]\n",
    "SA_predictiondata = fullpredictiondata[fullpredictiondata['Region'] == 3]\n",
    "TA_predictiondata = fullpredictiondata[fullpredictiondata['Region'] == 4]\n",
    "VI_predictiondata = fullpredictiondata[fullpredictiondata['Region'] == 5]\n",
    "WA_predictiondata = fullpredictiondata[fullpredictiondata['Region'] == 6]"
   ]
  },
  {
   "cell_type": "code",
   "execution_count": 0,
   "metadata": {
    "application/vnd.databricks.v1+cell": {
     "cellMetadata": {
      "byteLimit": 2048000,
      "rowLimit": 10000
     },
     "inputWidgets": {},
     "nuid": "57c7dc25-315b-46d6-bb8d-e7a1282725ca",
     "showTitle": false,
     "title": ""
    }
   },
   "outputs": [
    {
     "output_type": "execute_result",
     "data": {
      "text/plain": [
       "DataFrame[]"
      ]
     },
     "execution_count": 36,
     "metadata": {},
     "output_type": "execute_result"
    }
   ],
   "source": [
    "spark.sql(\"CREATE DATABASE IF NOT EXISTS prediction_aus_wildfires\")"
   ]
  },
  {
   "cell_type": "code",
   "execution_count": 0,
   "metadata": {
    "application/vnd.databricks.v1+cell": {
     "cellMetadata": {
      "byteLimit": 2048000,
      "rowLimit": 10000
     },
     "inputWidgets": {},
     "nuid": "076b768e-43ab-4ee6-8dc2-20d2ddd8ff60",
     "showTitle": false,
     "title": ""
    }
   },
   "outputs": [],
   "source": [
    "# CONVERTING IN ON A SPARK DATAFRAME\n",
    "\n",
    "df_all_spark = spark.createDataFrame(fullpredictiondata)\n",
    "NSW_spark = spark.createDataFrame(NSW_predictiondata)\n",
    "NT_spark = spark.createDataFrame(NT_predictiondata)\n",
    "QL_spark = spark.createDataFrame(QL_predictiondata)\n",
    "SA_spark = spark.createDataFrame(SA_predictiondata)\n",
    "TA_spark = spark.createDataFrame(TA_predictiondata)\n",
    "VI_spark = spark.createDataFrame(VI_predictiondata)\n",
    "WA_spark = spark.createDataFrame(WA_predictiondata)"
   ]
  },
  {
   "cell_type": "code",
   "execution_count": 0,
   "metadata": {
    "application/vnd.databricks.v1+cell": {
     "cellMetadata": {
      "byteLimit": 2048000,
      "rowLimit": 10000
     },
     "inputWidgets": {},
     "nuid": "fcbbebc7-ff55-4a5e-bab1-6f59c5fad5a7",
     "showTitle": false,
     "title": ""
    }
   },
   "outputs": [
    {
     "output_type": "execute_result",
     "data": {
      "text/plain": [
       "DataFrame[num_affected_rows: bigint, num_inserted_rows: bigint]"
      ]
     },
     "execution_count": 38,
     "metadata": {},
     "output_type": "execute_result"
    }
   ],
   "source": [
    "spark.sql(\"DROP TABLE IF EXISTS prediction_aus_wildfires.allregions\")\n",
    "# Create a temporary view from label_spark_df\n",
    "df_all_spark.createOrReplaceTempView(\"temp_view\")\n",
    "# Convert the temporary view to a table\n",
    "spark.sql(\"CREATE TABLE prediction_aus_wildfires.allregions AS SELECT * FROM temp_view\")"
   ]
  },
  {
   "cell_type": "code",
   "execution_count": 0,
   "metadata": {
    "application/vnd.databricks.v1+cell": {
     "cellMetadata": {
      "byteLimit": 2048000,
      "rowLimit": 10000
     },
     "inputWidgets": {},
     "nuid": "62fca06c-45f7-4b8c-ad69-45ea9ebe8594",
     "showTitle": false,
     "title": ""
    }
   },
   "outputs": [
    {
     "output_type": "execute_result",
     "data": {
      "text/plain": [
       "DataFrame[num_affected_rows: bigint, num_inserted_rows: bigint]"
      ]
     },
     "execution_count": 39,
     "metadata": {},
     "output_type": "execute_result"
    }
   ],
   "source": [
    "spark.sql(\"DROP TABLE IF EXISTS prediction_aus_wildfires.NSW_prediction_data\")\n",
    "NSW_spark.createOrReplaceTempView(\"temp_view1\")\n",
    "spark.sql(\"CREATE TABLE prediction_aus_wildfires.NSW_prediction_data AS SELECT * FROM temp_view1\")\n",
    "\n",
    "spark.sql(\"DROP TABLE IF EXISTS prediction_aus_wildfires.NT_prediction_data\")\n",
    "NT_spark.createOrReplaceTempView(\"temp_view2\")\n",
    "spark.sql(\"CREATE TABLE prediction_aus_wildfires.NT_prediction_data AS SELECT * FROM temp_view2\")\n",
    "\n",
    "spark.sql(\"DROP TABLE IF EXISTS prediction_aus_wildfires.QL_prediction_data\")\n",
    "QL_spark.createOrReplaceTempView(\"temp_view3\")\n",
    "spark.sql(\"CREATE TABLE prediction_aus_wildfires.QL_prediction_data AS SELECT * FROM temp_view3\")\n",
    "\n",
    "spark.sql(\"DROP TABLE IF EXISTS prediction_aus_wildfires.SA_prediction_data\")\n",
    "SA_spark.createOrReplaceTempView(\"temp_view4\")\n",
    "spark.sql(\"CREATE TABLE prediction_aus_wildfires.SA_prediction_data AS SELECT * FROM temp_view4\")\n",
    "\n",
    "spark.sql(\"DROP TABLE IF EXISTS prediction_aus_wildfires.TA_prediction_data\")\n",
    "TA_spark.createOrReplaceTempView(\"temp_view5\")\n",
    "spark.sql(\"CREATE TABLE prediction_aus_wildfires.TA_prediction_data AS SELECT * FROM temp_view5\")\n",
    "\n",
    "spark.sql(\"DROP TABLE IF EXISTS prediction_aus_wildfires.VI_prediction_data\")\n",
    "VI_spark.createOrReplaceTempView(\"temp_view6\")\n",
    "spark.sql(\"CREATE TABLE prediction_aus_wildfires.VI_prediction_data AS SELECT * FROM temp_view6\")\n",
    "\n",
    "spark.sql(\"DROP TABLE IF EXISTS prediction_aus_wildfires.WA_prediction_data\")\n",
    "WA_spark.createOrReplaceTempView(\"temp_view7\")\n",
    "spark.sql(\"CREATE TABLE prediction_aus_wildfires.WA_prediction_data AS SELECT * FROM temp_view7\")"
   ]
  },
  {
   "cell_type": "code",
   "execution_count": 0,
   "metadata": {
    "application/vnd.databricks.v1+cell": {
     "cellMetadata": {
      "byteLimit": 2048000,
      "implicitDf": true,
      "rowLimit": 10000
     },
     "inputWidgets": {},
     "nuid": "3c0012ef-d0ab-4549-87a9-1d75d6bdcf62",
     "showTitle": false,
     "title": ""
    }
   },
   "outputs": [
    {
     "output_type": "display_data",
     "data": {
      "text/html": [
       "<style scoped>\n",
       "  .table-result-container {\n",
       "    max-height: 300px;\n",
       "    overflow: auto;\n",
       "  }\n",
       "  table, th, td {\n",
       "    border: 1px solid black;\n",
       "    border-collapse: collapse;\n",
       "  }\n",
       "  th, td {\n",
       "    padding: 5px;\n",
       "  }\n",
       "  th {\n",
       "    text-align: left;\n",
       "  }\n",
       "</style><div class='table-result-container'><table class='table-result'><thead style='background-color: white'><tr><th>Date</th><th>Region</th><th>Precipitation_Max</th><th>Precipitation_Mean</th><th>Precipitation_Min</th><th>RelativeHumidity_Mean</th><th>SoilWaterContent_Max</th><th>SoilWaterContent_Min</th><th>SolarRadiation_Mean</th><th>Temperature_Mean</th><th>WindSpeed_Max</th><th>WindSpeed_Mean</th><th>Year</th><th>Month</th><th>Shrubs</th><th>Cultivated_and_managed_vegetation/agriculture__cropland_</th><th>Bare_/_sparse_vegetation</th><th>Permanent_water_bodies</th><th>Closed_forest__deciduous_broad_leaf</th><th>Vegetation_index_mean</th><th>Vegetation_index_max</th><th>Vegetation_index_min</th><th>Vegetation_index_std</th></tr></thead><tbody><tr><td>2020-11-01T00:00:00Z</td><td>0</td><td>13.27205753326416</td><td>0.3399253977277619</td><td>0.0</td><td>58.22523365549257</td><td>0.463790744543076</td><td>0.0040077813901009994</td><td>24.989830709534775</td><td>19.2235199334174</td><td>10.093379020690918</td><td>3.406462699654476</td><td>2020</td><td>11</td><td>6.2</td><td>13.0</td><td>0.2</td><td>0.2</td><td>6.8</td><td>0.39018727</td><td>0.966899991</td><td>-0.199999988</td><td>0.2014139</td></tr><tr><td>2020-11-02T00:00:00Z</td><td>0</td><td>1.670286178588867</td><td>0.046344826218342995</td><td>0.0</td><td>51.444950218985745</td><td>0.444154173135757</td><td>0.006485901772976</td><td>27.939121257593268</td><td>20.428052061234226</td><td>7.767242908477782</td><td>3.1999174185259336</td><td>2020</td><td>11</td><td>6.2</td><td>13.0</td><td>0.2</td><td>0.2</td><td>6.8</td><td>0.39018727</td><td>0.966899991</td><td>-0.199999988</td><td>0.2014139</td></tr><tr><td>2020-11-03T00:00:00Z</td><td>0</td><td>1.6452790498733518</td><td>0.007782246540582</td><td>0.0</td><td>45.605731771346846</td><td>0.4274033010005949</td><td>0.009144559502602</td><td>28.94655776390912</td><td>21.908099112392197</td><td>7.9098405838012695</td><td>2.806550127339705</td><td>2020</td><td>11</td><td>6.2</td><td>13.0</td><td>0.2</td><td>0.2</td><td>6.8</td><td>0.39018727</td><td>0.966899991</td><td>-0.199999988</td><td>0.2014139</td></tr><tr><td>2020-11-04T00:00:00Z</td><td>0</td><td>29.678232192993164</td><td>3.0130910880032764</td><td>0.0</td><td>52.197555011148616</td><td>0.412576913833618</td><td>0.0106470156461</td><td>24.257280923532964</td><td>21.208240703887018</td><td>9.172279357910156</td><td>4.529827541838683</td><td>2020</td><td>11</td><td>6.2</td><td>13.0</td><td>0.2</td><td>0.2</td><td>6.8</td><td>0.39018727</td><td>0.966899991</td><td>-0.199999988</td><td>0.2014139</td></tr><tr><td>2020-11-05T00:00:00Z</td><td>0</td><td>33.587207794189446</td><td>2.2636986318593904</td><td>0.0</td><td>54.10890649163142</td><td>0.45890042185783403</td><td>0.011449042707681998</td><td>25.596029143612</td><td>14.972721808661802</td><td>10.640344619750977</td><td>4.751309602890596</td><td>2020</td><td>11</td><td>6.2</td><td>13.0</td><td>0.2</td><td>0.2</td><td>6.8</td><td>0.39018727</td><td>0.966899991</td><td>-0.199999988</td><td>0.2014139</td></tr><tr><td>2020-11-06T00:00:00Z</td><td>0</td><td>3.222622394561768</td><td>0.050766424114472</td><td>0.0</td><td>50.58870471182375</td><td>0.43619689345359797</td><td>0.010883253067732</td><td>28.00257503272754</td><td>16.873234188073674</td><td>9.485118865966797</td><td>3.371304748029274</td><td>2020</td><td>11</td><td>6.2</td><td>13.0</td><td>0.2</td><td>0.2</td><td>6.8</td><td>0.39018727</td><td>0.966899991</td><td>-0.199999988</td><td>0.2014139</td></tr><tr><td>2020-11-07T00:00:00Z</td><td>0</td><td>2.9123418331146236</td><td>0.11360939808612</td><td>0.0</td><td>47.57083337331669</td><td>0.41787841916084295</td><td>0.008597824722528</td><td>28.350017717434557</td><td>18.324019686920696</td><td>6.764839172363281</td><td>4.048133728666039</td><td>2020</td><td>11</td><td>6.2</td><td>13.0</td><td>0.2</td><td>0.2</td><td>6.8</td><td>0.39018727</td><td>0.966899991</td><td>-0.199999988</td><td>0.2014139</td></tr><tr><td>2020-11-08T00:00:00Z</td><td>0</td><td>1.060343265533447</td><td>0.031345508465952</td><td>0.0</td><td>47.116303651870965</td><td>0.403036117553711</td><td>0.006520930211991001</td><td>27.99228816468525</td><td>20.30107241110976</td><td>6.571534156799316</td><td>3.8686170221672613</td><td>2020</td><td>11</td><td>6.2</td><td>13.0</td><td>0.2</td><td>0.2</td><td>6.8</td><td>0.39018727</td><td>0.966899991</td><td>-0.199999988</td><td>0.2014139</td></tr><tr><td>2020-11-09T00:00:00Z</td><td>0</td><td>1.5815242528915412</td><td>0.048110594707656</td><td>0.0</td><td>46.91309277602192</td><td>0.389001727104187</td><td>0.005316022317857</td><td>27.376894369173737</td><td>21.92566841840948</td><td>7.831758975982666</td><td>3.6036956902628887</td><td>2020</td><td>11</td><td>6.2</td><td>13.0</td><td>0.2</td><td>0.2</td><td>6.8</td><td>0.39018727</td><td>0.966899991</td><td>-0.199999988</td><td>0.2014139</td></tr><tr><td>2020-11-10T00:00:00Z</td><td>0</td><td>1.494732975959778</td><td>0.05358677385336401</td><td>0.0</td><td>41.6356633806419</td><td>0.37637731432914706</td><td>0.0052936999127270006</td><td>28.169132911547432</td><td>24.194212822688797</td><td>9.174653053283693</td><td>3.967836515599783</td><td>2020</td><td>11</td><td>6.2</td><td>13.0</td><td>0.2</td><td>0.2</td><td>6.8</td><td>0.39018727</td><td>0.966899991</td><td>-0.199999988</td><td>0.2014139</td></tr><tr><td>2020-11-11T00:00:00Z</td><td>0</td><td>22.117555618286133</td><td>1.538630785670596</td><td>0.0</td><td>46.60485325922948</td><td>0.380894333124161</td><td>0.025124993175267996</td><td>25.560698556395927</td><td>24.251425363847822</td><td>9.251144409179688</td><td>4.256700108551963</td><td>2020</td><td>11</td><td>6.2</td><td>13.0</td><td>0.2</td><td>0.2</td><td>6.8</td><td>0.39018727</td><td>0.966899991</td><td>-0.199999988</td><td>0.2014139</td></tr><tr><td>2020-11-12T00:00:00Z</td><td>0</td><td>19.90384292602539</td><td>2.08149310276541</td><td>0.0</td><td>53.967675151379254</td><td>0.406127482652664</td><td>0.026112075895071</td><td>23.176751603458147</td><td>22.32307202641279</td><td>7.724566459655763</td><td>3.9339149431598077</td><td>2020</td><td>11</td><td>6.2</td><td>13.0</td><td>0.2</td><td>0.2</td><td>6.8</td><td>0.39018727</td><td>0.966899991</td><td>-0.199999988</td><td>0.2014139</td></tr><tr><td>2020-11-13T00:00:00Z</td><td>0</td><td>30.476207733154297</td><td>1.046204173942402</td><td>0.0</td><td>52.925885507209884</td><td>0.411324828863144</td><td>0.023070018738508002</td><td>25.65213197653271</td><td>20.01459996767339</td><td>5.491867542266847</td><td>3.276088964225368</td><td>2020</td><td>11</td><td>6.2</td><td>13.0</td><td>0.2</td><td>0.2</td><td>6.8</td><td>0.39018727</td><td>0.966899991</td><td>-0.199999988</td><td>0.2014139</td></tr><tr><td>2020-11-14T00:00:00Z</td><td>0</td><td>3.3514401912689213</td><td>0.043537484559886</td><td>0.0</td><td>40.86677177859276</td><td>0.399053066968918</td><td>0.024197202175856004</td><td>30.09234465134389</td><td>22.51633373750912</td><td>5.756511211395264</td><td>2.95546768131518</td><td>2020</td><td>11</td><td>6.2</td><td>13.0</td><td>0.2</td><td>0.2</td><td>6.8</td><td>0.39018727</td><td>0.966899991</td><td>-0.199999988</td><td>0.2014139</td></tr><tr><td>2020-11-15T00:00:00Z</td><td>0</td><td>1.0042606592178343</td><td>0.059935406484587006</td><td>0.0</td><td>32.02931382602696</td><td>0.378955215215683</td><td>0.024308828637003996</td><td>28.79806795123614</td><td>28.06857257577536</td><td>10.209171295166016</td><td>4.631494729093607</td><td>2020</td><td>11</td><td>6.2</td><td>13.0</td><td>0.2</td><td>0.2</td><td>6.8</td><td>0.39018727</td><td>0.966899991</td><td>-0.199999988</td><td>0.2014139</td></tr><tr><td>2020-11-16T00:00:00Z</td><td>0</td><td>5.852640151977539</td><td>0.09714893437008301</td><td>0.0</td><td>39.33784729596994</td><td>0.36654829978942893</td><td>0.024964181706308996</td><td>25.34631341769814</td><td>22.953270890201072</td><td>9.27674388885498</td><td>4.605340455350849</td><td>2020</td><td>11</td><td>6.2</td><td>13.0</td><td>0.2</td><td>0.2</td><td>6.8</td><td>0.39018727</td><td>0.966899991</td><td>-0.199999988</td><td>0.2014139</td></tr><tr><td>2020-11-17T00:00:00Z</td><td>0</td><td>9.891472816467283</td><td>0.259609271927097</td><td>0.0</td><td>39.8166021078225</td><td>0.38722768425941495</td><td>0.024750404059887002</td><td>30.34808795733745</td><td>20.957464773946775</td><td>6.573269367218018</td><td>3.369549225529183</td><td>2020</td><td>11</td><td>6.2</td><td>13.0</td><td>0.2</td><td>0.2</td><td>6.8</td><td>0.39018727</td><td>0.966899991</td><td>-0.199999988</td><td>0.2014139</td></tr><tr><td>2020-11-18T00:00:00Z</td><td>0</td><td>0.8160603046417241</td><td>0.0063077480463390005</td><td>0.0</td><td>40.21445419106919</td><td>0.38014635443687395</td><td>0.0242984239012</td><td>30.487009943598895</td><td>23.75116046167968</td><td>7.774772167205811</td><td>2.757537582079491</td><td>2020</td><td>11</td><td>6.2</td><td>13.0</td><td>0.2</td><td>0.2</td><td>6.8</td><td>0.39018727</td><td>0.966899991</td><td>-0.199999988</td><td>0.2014139</td></tr><tr><td>2020-11-19T00:00:00Z</td><td>0</td><td>0.12064587324857699</td><td>0.00260769752134</td><td>0.0</td><td>36.709926759406265</td><td>0.366588681936264</td><td>0.023655286058784003</td><td>29.6740170479954</td><td>26.936561230040677</td><td>8.130853652954103</td><td>2.9778309805934464</td><td>2020</td><td>11</td><td>6.2</td><td>13.0</td><td>0.2</td><td>0.2</td><td>6.8</td><td>0.39018727</td><td>0.966899991</td><td>-0.199999988</td><td>0.2014139</td></tr><tr><td>2020-11-20T00:00:00Z</td><td>0</td><td>4.320347309112549</td><td>0.11770844268352</td><td>0.0</td><td>34.87623430672413</td><td>0.35596123337745705</td><td>0.022845041006804002</td><td>29.193398918301483</td><td>28.3486949321573</td><td>5.843470096588135</td><td>2.8507135202312655</td><td>2020</td><td>11</td><td>6.2</td><td>13.0</td><td>0.2</td><td>0.2</td><td>6.8</td><td>0.39018727</td><td>0.966899991</td><td>-0.199999988</td><td>0.2014139</td></tr><tr><td>2020-11-21T00:00:00Z</td><td>0</td><td>2.51799201965332</td><td>0.242799538996901</td><td>0.0</td><td>39.77983139099833</td><td>0.35018080472946195</td><td>0.022471841424703997</td><td>25.354175853700557</td><td>28.82497751518414</td><td>8.229350090026855</td><td>2.8100418614817433</td><td>2020</td><td>11</td><td>6.2</td><td>13.0</td><td>0.2</td><td>0.2</td><td>6.8</td><td>0.39018727</td><td>0.966899991</td><td>-0.199999988</td><td>0.2014139</td></tr><tr><td>2020-11-22T00:00:00Z</td><td>0</td><td>23.10314750671387</td><td>2.3530137921472014</td><td>0.0</td><td>49.707182058710536</td><td>0.38016736507415794</td><td>0.019892759621143</td><td>21.806261591486216</td><td>27.21316350303556</td><td>6.188262462615968</td><td>3.0917861599755843</td><td>2020</td><td>11</td><td>6.2</td><td>13.0</td><td>0.2</td><td>0.2</td><td>6.8</td><td>0.39018727</td><td>0.966899991</td><td>-0.199999988</td><td>0.2014139</td></tr><tr><td>2020-11-23T00:00:00Z</td><td>0</td><td>30.20063591003418</td><td>2.069704239949992</td><td>0.0</td><td>60.11709428170239</td><td>0.42591798305511497</td><td>0.020856222137808998</td><td>24.3385308832234</td><td>22.33477169513272</td><td>8.94775104522705</td><td>4.420762300578622</td><td>2020</td><td>11</td><td>6.2</td><td>13.0</td><td>0.2</td><td>0.2</td><td>6.8</td><td>0.39018727</td><td>0.966899991</td><td>-0.199999988</td><td>0.2014139</td></tr><tr><td>2020-11-24T00:00:00Z</td><td>0</td><td>7.5174407958984375</td><td>0.21563916693451102</td><td>0.0</td><td>46.85637646736568</td><td>0.399018406867981</td><td>0.021130833774805</td><td>28.808812129044753</td><td>22.36838160293568</td><td>6.23686408996582</td><td>3.559540014591277</td><td>2020</td><td>11</td><td>6.2</td><td>13.0</td><td>0.2</td><td>0.2</td><td>6.8</td><td>0.39018727</td><td>0.966899991</td><td>-0.199999988</td><td>0.2014139</td></tr><tr><td>2020-11-25T00:00:00Z</td><td>0</td><td>1.6019922494888312</td><td>0.012981616596348</td><td>0.0</td><td>44.46173016551093</td><td>0.392564594745636</td><td>0.019960768520832003</td><td>29.07198769330163</td><td>25.052346654532425</td><td>5.382958889007568</td><td>2.400834277201558</td><td>2020</td><td>11</td><td>6.2</td><td>13.0</td><td>0.2</td><td>0.2</td><td>6.8</td><td>0.39018727</td><td>0.966899991</td><td>-0.199999988</td><td>0.2014139</td></tr><tr><td>2020-11-26T00:00:00Z</td><td>0</td><td>7.188323497772218</td><td>0.118483302247298</td><td>0.0</td><td>38.96477520667502</td><td>0.38066276907920793</td><td>0.018150242045522</td><td>29.73793744696897</td><td>27.95788000245564</td><td>7.262378215789795</td><td>3.0118475534481446</td><td>2020</td><td>11</td><td>6.2</td><td>13.0</td><td>0.2</td><td>0.2</td><td>6.8</td><td>0.39018727</td><td>0.966899991</td><td>-0.199999988</td><td>0.2014139</td></tr><tr><td>2020-11-27T00:00:00Z</td><td>0</td><td>1.128051161766052</td><td>0.011346640727256002</td><td>0.0</td><td>33.70679510727217</td><td>0.36242887377739</td><td>0.016725808382034</td><td>30.306270276483325</td><td>30.990381906135603</td><td>7.487201690673827</td><td>3.6929740101651345</td><td>2020</td><td>11</td><td>6.2</td><td>13.0</td><td>0.2</td><td>0.2</td><td>6.8</td><td>0.39018727</td><td>0.966899991</td><td>-0.199999988</td><td>0.2014139</td></tr><tr><td>2020-11-28T00:00:00Z</td><td>0</td><td>6.656005382537843</td><td>0.296905145710174</td><td>0.0</td><td>32.355040078805075</td><td>0.365666925907135</td><td>0.015689006075263</td><td>27.921186769462466</td><td>31.586007741732782</td><td>10.146722793579102</td><td>6.201957155418742</td><td>2020</td><td>11</td><td>6.2</td><td>13.0</td><td>0.2</td><td>0.2</td><td>6.8</td><td>0.39018727</td><td>0.966899991</td><td>-0.199999988</td><td>0.2014139</td></tr><tr><td>2020-11-29T00:00:00Z</td><td>0</td><td>2.345260858535767</td><td>0.08456281357823199</td><td>0.0</td><td>40.12010464987921</td><td>0.35910162329673795</td><td>0.015763983130455</td><td>29.460962388838283</td><td>25.123490681925546</td><td>10.296908378601074</td><td>4.7406153161358</td><td>2020</td><td>11</td><td>6.2</td><td>13.0</td><td>0.2</td><td>0.2</td><td>6.8</td><td>0.39018727</td><td>0.966899991</td><td>-0.199999988</td><td>0.2014139</td></tr><tr><td>2020-11-30T00:00:00Z</td><td>0</td><td>1.7054282426834109</td><td>0.035910918551376</td><td>0.0</td><td>40.43430059503577</td><td>0.346569031476974</td><td>0.014704460278153</td><td>29.619385923430535</td><td>27.59752189718288</td><td>11.076045036315918</td><td>3.545395913438139</td><td>2020</td><td>11</td><td>6.2</td><td>13.0</td><td>0.2</td><td>0.2</td><td>6.8</td><td>0.39018727</td><td>0.966899991</td><td>-0.199999988</td><td>0.2014139</td></tr><tr><td>2020-12-01T00:00:00Z</td><td>0</td><td>3.925304174423218</td><td>0.20614262519506701</td><td>0.0</td><td>39.67525588710498</td><td>0.34787195920944197</td><td>0.012876356951892001</td><td>27.916940596476003</td><td>26.888718511621093</td><td>10.057924270629883</td><td>5.700205174789671</td><td>2020</td><td>12</td><td>6.2</td><td>13.0</td><td>0.2</td><td>0.2</td><td>6.8</td><td>0.371967327</td><td>0.978699982</td><td>-0.199999988</td><td>0.18858262</td></tr><tr><td>2020-12-02T00:00:00Z</td><td>0</td><td>27.85914421081543</td><td>1.029014750212803</td><td>0.0</td><td>42.12612955605355</td><td>0.435497492551804</td><td>0.012689504772424998</td><td>26.58632450375373</td><td>22.40108431484571</td><td>7.790850639343263</td><td>4.010848456001109</td><td>2020</td><td>12</td><td>6.2</td><td>13.0</td><td>0.2</td><td>0.2</td><td>6.8</td><td>0.371967327</td><td>0.978699982</td><td>-0.199999988</td><td>0.18858262</td></tr><tr><td>2020-12-03T00:00:00Z</td><td>0</td><td>34.38506317138672</td><td>2.246047932285611</td><td>0.0</td><td>46.104475732201045</td><td>0.44970586895942705</td><td>0.012868078425527</td><td>24.640190682730573</td><td>23.742885441815577</td><td>5.560418128967285</td><td>2.688330581569613</td><td>2020</td><td>12</td><td>6.2</td><td>13.0</td><td>0.2</td><td>0.2</td><td>6.8</td><td>0.371967327</td><td>0.978699982</td><td>-0.199999988</td><td>0.18858262</td></tr><tr><td>2020-12-04T00:00:00Z</td><td>0</td><td>13.923713684082033</td><td>0.42572355785255894</td><td>0.0</td><td>35.201274194067715</td><td>0.446259081363678</td><td>0.013429039157927</td><td>28.940418747015165</td><td>26.469302714218003</td><td>7.2504987716674805</td><td>3.264957635415199</td><td>2020</td><td>12</td><td>6.2</td><td>13.0</td><td>0.2</td><td>0.2</td><td>6.8</td><td>0.371967327</td><td>0.978699982</td><td>-0.199999988</td><td>0.18858262</td></tr><tr><td>2020-12-05T00:00:00Z</td><td>0</td><td>33.28197479248047</td><td>5.09129696118497</td><td>0.0</td><td>61.58525349291954</td><td>0.442949771881104</td><td>0.015845699235796998</td><td>19.455424285499006</td><td>22.771994220288548</td><td>8.653835296630858</td><td>5.060146920723704</td><td>2020</td><td>12</td><td>6.2</td><td>13.0</td><td>0.2</td><td>0.2</td><td>6.8</td><td>0.371967327</td><td>0.978699982</td><td>-0.199999988</td><td>0.18858262</td></tr><tr><td>2020-12-06T00:00:00Z</td><td>0</td><td>7.099327564239503</td><td>0.224302238358919</td><td>0.0</td><td>43.8490428963032</td><td>0.42099317908287</td><td>0.014428791590034998</td><td>27.68945638751585</td><td>21.116127413377182</td><td>8.110058784484862</td><td>4.475261915325841</td><td>2020</td><td>12</td><td>6.2</td><td>13.0</td><td>0.2</td><td>0.2</td><td>6.8</td><td>0.371967327</td><td>0.978699982</td><td>-0.199999988</td><td>0.18858262</td></tr><tr><td>2020-12-07T00:00:00Z</td><td>0</td><td>22.71554946899414</td><td>0.6670087871699311</td><td>0.0</td><td>47.497153106623436</td><td>0.420860767364502</td><td>0.010237830691040001</td><td>26.69044059364561</td><td>18.290831325314745</td><td>8.13337230682373</td><td>5.357432116034956</td><td>2020</td><td>12</td><td>6.2</td><td>13.0</td><td>0.2</td><td>0.2</td><td>6.8</td><td>0.371967327</td><td>0.978699982</td><td>-0.199999988</td><td>0.18858262</td></tr><tr><td>2020-12-08T00:00:00Z</td><td>0</td><td>0.9294988512992859</td><td>0.01253714848467</td><td>0.0</td><td>42.210710851901524</td><td>0.404857009649277</td><td>0.009431499987841</td><td>31.891742571586303</td><td>17.726709203365303</td><td>7.559578895568848</td><td>2.935891451772554</td><td>2020</td><td>12</td><td>6.2</td><td>13.0</td><td>0.2</td><td>0.2</td><td>6.8</td><td>0.371967327</td><td>0.978699982</td><td>-0.199999988</td><td>0.18858262</td></tr><tr><td>2020-12-09T00:00:00Z</td><td>0</td><td>1.778662443161011</td><td>0.034324134783266</td><td>0.0</td><td>39.77406917850898</td><td>0.392949610948563</td><td>0.010164776816964</td><td>31.863436827682854</td><td>21.99188623000511</td><td>4.946291446685791</td><td>2.350451397605142</td><td>2020</td><td>12</td><td>6.2</td><td>13.0</td><td>0.2</td><td>0.2</td><td>6.8</td><td>0.371967327</td><td>0.978699982</td><td>-0.199999988</td><td>0.18858262</td></tr><tr><td>2020-12-10T00:00:00Z</td><td>0</td><td>42.57355117797852</td><td>1.7231804892083233</td><td>0.0</td><td>41.25263353568071</td><td>0.41584047675132796</td><td>0.010341946966946</td><td>28.22898026018413</td><td>23.2985337300676</td><td>8.39201831817627</td><td>4.720606630383331</td><td>2020</td><td>12</td><td>6.2</td><td>13.0</td><td>0.2</td><td>0.2</td><td>6.8</td><td>0.371967327</td><td>0.978699982</td><td>-0.199999988</td><td>0.18858262</td></tr><tr><td>2020-12-11T00:00:00Z</td><td>0</td><td>86.23925018310547</td><td>2.725500784477127</td><td>0.0</td><td>48.94882219520432</td><td>0.49826219677925104</td><td>0.008074507117271</td><td>26.8977362561828</td><td>21.793545880604725</td><td>8.106038093566895</td><td>5.530976323130617</td><td>2020</td><td>12</td><td>6.2</td><td>13.0</td><td>0.2</td><td>0.2</td><td>6.8</td><td>0.371967327</td><td>0.978699982</td><td>-0.199999988</td><td>0.18858262</td></tr><tr><td>2020-12-12T00:00:00Z</td><td>0</td><td>54.50175476074218</td><td>1.792150645393906</td><td>0.0</td><td>45.94219861773032</td><td>0.50159078836441</td><td>0.006354484707116999</td><td>27.15311057797184</td><td>22.34536436048905</td><td>8.383744239807129</td><td>5.534796376220411</td><td>2020</td><td>12</td><td>6.2</td><td>13.0</td><td>0.2</td><td>0.2</td><td>6.8</td><td>0.371967327</td><td>0.978699982</td><td>-0.199999988</td><td>0.18858262</td></tr><tr><td>2020-12-13T00:00:00Z</td><td>0</td><td>64.88746643066406</td><td>1.468325638177155</td><td>0.0</td><td>45.469779746610925</td><td>0.488575845956802</td><td>0.005500920582563001</td><td>26.50170426072289</td><td>23.78049038766521</td><td>9.060883522033693</td><td>4.678587306639793</td><td>2020</td><td>12</td><td>6.2</td><td>13.0</td><td>0.2</td><td>0.2</td><td>6.8</td><td>0.371967327</td><td>0.978699982</td><td>-0.199999988</td><td>0.18858262</td></tr><tr><td>2020-12-14T00:00:00Z</td><td>0</td><td>122.83405303955078</td><td>5.367399629382113</td><td>0.0</td><td>49.2013238141744</td><td>0.505251467227936</td><td>0.004489377606659999</td><td>23.898180267791144</td><td>25.30387793254607</td><td>9.222183227539062</td><td>4.223967584450286</td><td>2020</td><td>12</td><td>6.2</td><td>13.0</td><td>0.2</td><td>0.2</td><td>6.8</td><td>0.371967327</td><td>0.978699982</td><td>-0.199999988</td><td>0.18858262</td></tr><tr><td>2020-12-15T00:00:00Z</td><td>0</td><td>72.98918914794923</td><td>3.034916628545436</td><td>0.0</td><td>57.2135121626181</td><td>0.49241104722022994</td><td>0.0023094320204110003</td><td>23.14065413433196</td><td>26.56716597610044</td><td>7.54404878616333</td><td>3.2897592730604397</td><td>2020</td><td>12</td><td>6.2</td><td>13.0</td><td>0.2</td><td>0.2</td><td>6.8</td><td>0.371967327</td><td>0.978699982</td><td>-0.199999988</td><td>0.18858262</td></tr><tr><td>2020-12-16T00:00:00Z</td><td>0</td><td>35.070812225341804</td><td>7.218078828479147</td><td>0.0</td><td>66.041182940916</td><td>0.502116084098816</td><td>0.0015405801823359998</td><td>22.47927452765481</td><td>25.80395590263042</td><td>8.074869155883789</td><td>2.7746170531021233</td><td>2020</td><td>12</td><td>6.2</td><td>13.0</td><td>0.2</td><td>0.2</td><td>6.8</td><td>0.371967327</td><td>0.978699982</td><td>-0.199999988</td><td>0.18858262</td></tr><tr><td>2020-12-17T00:00:00Z</td><td>0</td><td>24.23879432678223</td><td>1.7011679216658258</td><td>0.0</td><td>53.064396488121474</td><td>0.493652313947678</td><td>7.32938060537E-4</td><td>25.615894559877372</td><td>26.848654229319678</td><td>7.750306129455566</td><td>4.1088882382527725</td><td>2020</td><td>12</td><td>6.2</td><td>13.0</td><td>0.2</td><td>0.2</td><td>6.8</td><td>0.371967327</td><td>0.978699982</td><td>-0.199999988</td><td>0.18858262</td></tr><tr><td>2020-12-18T00:00:00Z</td><td>0</td><td>44.58858489990234</td><td>3.348077822214739</td><td>0.0</td><td>48.46795700460538</td><td>0.485978782176971</td><td>0.001032087486237</td><td>27.588377073672646</td><td>22.567038412019645</td><td>9.531484603881836</td><td>3.809013232015647</td><td>2020</td><td>12</td><td>6.2</td><td>13.0</td><td>0.2</td><td>0.2</td><td>6.8</td><td>0.371967327</td><td>0.978699982</td><td>-0.199999988</td><td>0.18858262</td></tr><tr><td>2020-12-19T00:00:00Z</td><td>0</td><td>21.327999114990234</td><td>1.4970189970709142</td><td>0.0</td><td>45.4755934885704</td><td>0.49142327904701205</td><td>1.7326143279199999E-4</td><td>25.158902906003327</td><td>23.157187270253463</td><td>6.3423423767089835</td><td>3.1779458769136717</td><td>2020</td><td>12</td><td>6.2</td><td>13.0</td><td>0.2</td><td>0.2</td><td>6.8</td><td>0.371967327</td><td>0.978699982</td><td>-0.199999988</td><td>0.18858262</td></tr><tr><td>2020-12-20T00:00:00Z</td><td>0</td><td>39.864891052246094</td><td>5.276744416412887</td><td>0.0</td><td>53.75211395479181</td><td>0.494778364896774</td><td>0.02927009575069</td><td>19.550280265167675</td><td>21.981767944358534</td><td>6.266465663909912</td><td>2.730037827448212</td><td>2020</td><td>12</td><td>6.2</td><td>13.0</td><td>0.2</td><td>0.2</td><td>6.8</td><td>0.371967327</td><td>0.978699982</td><td>-0.199999988</td><td>0.18858262</td></tr><tr><td>2020-12-21T00:00:00Z</td><td>0</td><td>87.10911560058595</td><td>17.52792707085629</td><td>0.24054728448391002</td><td>86.0924630178463</td><td>0.49700027704238897</td><td>0.029053386300802002</td><td>9.882896513859848</td><td>18.364100911429283</td><td>6.114418506622314</td><td>3.135284228534385</td><td>2020</td><td>12</td><td>6.2</td><td>13.0</td><td>0.2</td><td>0.2</td><td>6.8</td><td>0.371967327</td><td>0.978699982</td><td>-0.199999988</td><td>0.18858262</td></tr><tr><td>2020-12-22T00:00:00Z</td><td>0</td><td>16.151086807250973</td><td>0.35339019207604</td><td>0.0</td><td>60.297039389909116</td><td>0.4840163290500639</td><td>0.028479274362325998</td><td>22.971061020247973</td><td>18.42376894470795</td><td>9.49613094329834</td><td>4.516508637029482</td><td>2020</td><td>12</td><td>6.2</td><td>13.0</td><td>0.2</td><td>0.2</td><td>6.8</td><td>0.371967327</td><td>0.978699982</td><td>-0.199999988</td><td>0.18858262</td></tr><tr><td>2020-12-23T00:00:00Z</td><td>0</td><td>8.642285346984862</td><td>0.108961457839045</td><td>0.0</td><td>54.24497406309945</td><td>0.45919269323349</td><td>0.02711789496243</td><td>26.767681684809947</td><td>20.629809928159407</td><td>7.450644493103027</td><td>2.66666923613713</td><td>2020</td><td>12</td><td>6.2</td><td>13.0</td><td>0.2</td><td>0.2</td><td>6.8</td><td>0.371967327</td><td>0.978699982</td><td>-0.199999988</td><td>0.18858262</td></tr><tr><td>2020-12-24T00:00:00Z</td><td>0</td><td>6.484077453613281</td><td>0.25398282510400305</td><td>0.0</td><td>49.42711793194538</td><td>0.44638055562973</td><td>0.026040224358438998</td><td>28.26081831467941</td><td>21.967898515284578</td><td>9.132940292358398</td><td>3.06715133392588</td><td>2020</td><td>12</td><td>6.2</td><td>13.0</td><td>0.2</td><td>0.2</td><td>6.8</td><td>0.371967327</td><td>0.978699982</td><td>-0.199999988</td><td>0.18858262</td></tr><tr><td>2020-12-25T00:00:00Z</td><td>0</td><td>23.67876625061035</td><td>0.769214597909725</td><td>0.0</td><td>46.6486627820152</td><td>0.464832484722137</td><td>0.023236282169819</td><td>28.919939079108683</td><td>22.93916980072497</td><td>7.358846664428711</td><td>2.979324228132438</td><td>2020</td><td>12</td><td>6.2</td><td>13.0</td><td>0.2</td><td>0.2</td><td>6.8</td><td>0.371967327</td><td>0.978699982</td><td>-0.199999988</td><td>0.18858262</td></tr><tr><td>2020-12-26T00:00:00Z</td><td>0</td><td>40.08298873901367</td><td>2.218592244751386</td><td>0.0</td><td>44.32240765858807</td><td>0.478004097938538</td><td>0.022286839783192004</td><td>29.137192163517327</td><td>25.182572861388305</td><td>9.340370178222656</td><td>3.0510237986630804</td><td>2020</td><td>12</td><td>6.2</td><td>13.0</td><td>0.2</td><td>0.2</td><td>6.8</td><td>0.371967327</td><td>0.978699982</td><td>-0.199999988</td><td>0.18858262</td></tr><tr><td>2020-12-27T00:00:00Z</td><td>0</td><td>7.021190166473389</td><td>0.46450047905402897</td><td>0.0</td><td>44.112514713314546</td><td>0.484929740428925</td><td>0.019814938306808</td><td>27.39468404003739</td><td>26.369766385813328</td><td>10.105573654174805</td><td>4.530190949977122</td><td>2020</td><td>12</td><td>6.2</td><td>13.0</td><td>0.2</td><td>0.2</td><td>6.8</td><td>0.371967327</td><td>0.978699982</td><td>-0.199999988</td><td>0.18858262</td></tr><tr><td>2020-12-28T00:00:00Z</td><td>0</td><td>57.43383026123047</td><td>4.4226359576118535</td><td>0.0</td><td>50.584429012849824</td><td>0.495402067899704</td><td>0.02026204392314</td><td>27.504701584458733</td><td>21.963295998430286</td><td>7.835866451263428</td><td>3.931054196661524</td><td>2020</td><td>12</td><td>6.2</td><td>13.0</td><td>0.2</td><td>0.2</td><td>6.8</td><td>0.371967327</td><td>0.978699982</td><td>-0.199999988</td><td>0.18858262</td></tr><tr><td>2020-12-29T00:00:00Z</td><td>0</td><td>62.20326232910156</td><td>3.846752883348697</td><td>0.0</td><td>53.935485737352934</td><td>0.501795053482056</td><td>0.022124286741017997</td><td>27.093747391046954</td><td>21.83059350661944</td><td>6.198524475097656</td><td>3.4742138243128133</td><td>2020</td><td>12</td><td>6.2</td><td>13.0</td><td>0.2</td><td>0.2</td><td>6.8</td><td>0.371967327</td><td>0.978699982</td><td>-0.199999988</td><td>0.18858262</td></tr><tr><td>2020-12-30T00:00:00Z</td><td>0</td><td>14.712054252624512</td><td>0.9157990212641509</td><td>0.0</td><td>52.78536009918722</td><td>0.47931197285652205</td><td>0.022715086117387</td><td>25.60845247939795</td><td>24.712778361266288</td><td>7.0530338287353525</td><td>3.6019559029693236</td><td>2020</td><td>12</td><td>6.2</td><td>13.0</td><td>0.2</td><td>0.2</td><td>6.8</td><td>0.371967327</td><td>0.978699982</td><td>-0.199999988</td><td>0.18858262</td></tr><tr><td>2020-12-31T00:00:00Z</td><td>0</td><td>25.82556533813477</td><td>2.778155871225398</td><td>0.0</td><td>61.83716450366294</td><td>0.4675338864326479</td><td>0.022823655977845</td><td>22.997365722580327</td><td>24.039219875600843</td><td>6.129159450531006</td><td>3.927450716065132</td><td>2020</td><td>12</td><td>6.2</td><td>13.0</td><td>0.2</td><td>0.2</td><td>6.8</td><td>0.371967327</td><td>0.978699982</td><td>-0.199999988</td><td>0.18858262</td></tr><tr><td>2021-01-01T00:00:00Z</td><td>0</td><td>40.29701232910156</td><td>4.085987187958095</td><td>1.0128415306099999E-4</td><td>67.98116438818927</td><td>0.47760510444641097</td><td>0.022607775405048998</td><td>22.06228356727868</td><td>22.54490683231915</td><td>6.103385925292969</td><td>3.942495133393561</td><td>2021</td><td>1</td><td>6.2</td><td>13.0</td><td>0.2</td><td>0.2</td><td>6.8</td><td>null</td><td>null</td><td>null</td><td>null</td></tr><tr><td>2021-01-02T00:00:00Z</td><td>0</td><td>29.08292961120605</td><td>8.60674714928216</td><td>0.129118859767914</td><td>76.27696495979757</td><td>0.495398879051208</td><td>0.022516664117575</td><td>21.526874435326125</td><td>22.204600712605785</td><td>8.737760543823242</td><td>2.5969991791405933</td><td>2021</td><td>1</td><td>6.2</td><td>13.0</td><td>0.2</td><td>0.2</td><td>6.8</td><td>null</td><td>null</td><td>null</td><td>null</td></tr><tr><td>2021-01-03T00:00:00Z</td><td>0</td><td>23.87236213684082</td><td>3.578028072945265</td><td>0.0</td><td>67.26803958402269</td><td>0.489507406949997</td><td>0.023662194609642</td><td>22.218555396870766</td><td>23.884376238749446</td><td>6.8478636741638175</td><td>2.390477058837715</td><td>2021</td><td>1</td><td>6.2</td><td>13.0</td><td>0.2</td><td>0.2</td><td>6.8</td><td>null</td><td>null</td><td>null</td><td>null</td></tr><tr><td>2021-01-04T00:00:00Z</td><td>0</td><td>40.234046936035156</td><td>7.288439612997412</td><td>0.0</td><td>70.01827490543853</td><td>0.499342054128647</td><td>0.022516038268805</td><td>23.46545972892473</td><td>22.084871166458868</td><td>6.7131099700927725</td><td>3.168225285769382</td><td>2021</td><td>1</td><td>6.2</td><td>13.0</td><td>0.2</td><td>0.2</td><td>6.8</td><td>null</td><td>null</td><td>null</td><td>null</td></tr><tr><td>2021-01-05T00:00:00Z</td><td>0</td><td>18.35224151611328</td><td>0.827639688770345</td><td>0.0</td><td>57.7044124434641</td><td>0.47935545444488503</td><td>0.022376900538802</td><td>26.773641640438964</td><td>23.14080777750888</td><td>7.926435470581055</td><td>3.722554686489353</td><td>2021</td><td>1</td><td>6.2</td><td>13.0</td><td>0.2</td><td>0.2</td><td>6.8</td><td>null</td><td>null</td><td>null</td><td>null</td></tr><tr><td>2021-01-06T00:00:00Z</td><td>0</td><td>88.14263153076173</td><td>3.5790363702773065</td><td>0.0</td><td>60.555968841653296</td><td>0.500856935977936</td><td>0.022749004885554</td><td>22.56985624574249</td><td>21.60552912328906</td><td>7.499741554260254</td><td>4.165374895128114</td><td>2021</td><td>1</td><td>6.2</td><td>13.0</td><td>0.2</td><td>0.2</td><td>6.8</td><td>null</td><td>null</td><td>null</td><td>null</td></tr><tr><td>2021-01-07T00:00:00Z</td><td>0</td><td>18.05879211425781</td><td>1.188123740002291</td><td>0.0</td><td>57.479930501570045</td><td>0.4953330457210539</td><td>0.020780768245459</td><td>23.986470407490078</td><td>21.96297906382913</td><td>7.445026874542236</td><td>4.635769995509313</td><td>2021</td><td>1</td><td>6.2</td><td>13.0</td><td>0.2</td><td>0.2</td><td>6.8</td><td>null</td><td>null</td><td>null</td><td>null</td></tr><tr><td>2021-01-08T00:00:00Z</td><td>0</td><td>12.009876251220705</td><td>0.453306398129891</td><td>0.0</td><td>52.19428194326892</td><td>0.484196424484253</td><td>0.021030174568295</td><td>26.67343185222889</td><td>22.079537296791624</td><td>6.336115837097168</td><td>4.138222464309202</td><td>2021</td><td>1</td><td>6.2</td><td>13.0</td><td>0.2</td><td>0.2</td><td>6.8</td><td>null</td><td>null</td><td>null</td><td>null</td></tr><tr><td>2021-01-09T00:00:00Z</td><td>0</td><td>6.146893501281737</td><td>0.198090604701876</td><td>0.0</td><td>50.424478984361</td><td>0.47400638461113</td><td>0.019196655601263</td><td>28.877405886829205</td><td>23.284360699272085</td><td>5.4105658531188965</td><td>3.302071581796098</td><td>2021</td><td>1</td><td>6.2</td><td>13.0</td><td>0.2</td><td>0.2</td><td>6.8</td><td>null</td><td>null</td><td>null</td><td>null</td></tr><tr><td>2021-01-12T00:00:00Z</td><td>0</td><td>3.5504353046417236</td><td>0.130828442975724</td><td>0.0</td><td>42.43400500314522</td><td>0.439250230789185</td><td>0.019855532795191002</td><td>30.37531346151844</td><td>27.294275151190234</td><td>5.59935998916626</td><td>2.673435803887189</td><td>2021</td><td>1</td><td>6.2</td><td>13.0</td><td>0.2</td><td>0.2</td><td>6.8</td><td>null</td><td>null</td><td>null</td><td>null</td></tr><tr><td>2021-01-13T00:00:00Z</td><td>0</td><td>1.090824246406555</td><td>0.023876476139700998</td><td>0.0</td><td>39.57196366404304</td><td>0.425807803869247</td><td>0.020572979003191</td><td>29.18751937509485</td><td>28.05115635470737</td><td>8.945328712463379</td><td>3.278359443451209</td><td>2021</td><td>1</td><td>6.2</td><td>13.0</td><td>0.2</td><td>0.2</td><td>6.8</td><td>null</td><td>null</td><td>null</td><td>null</td></tr><tr><td>2021-01-14T00:00:00Z</td><td>0</td><td>10.148445129394533</td><td>0.482931719516901</td><td>0.0</td><td>41.06056638453674</td><td>0.419122576713562</td><td>0.020084923133254</td><td>30.15020730578291</td><td>25.529908784443254</td><td>7.024410724639893</td><td>3.7977013413057183</td><td>2021</td><td>1</td><td>6.2</td><td>13.0</td><td>0.2</td><td>0.2</td><td>6.8</td><td>null</td><td>null</td><td>null</td><td>null</td></tr><tr><td>2021-01-15T00:00:00Z</td><td>0</td><td>23.26383781433105</td><td>0.548560648938396</td><td>0.0</td><td>37.711468868826216</td><td>0.432652056217194</td><td>0.022273443639278002</td><td>30.58026267976852</td><td>21.40977859981069</td><td>9.615673065185547</td><td>5.562818963822784</td><td>2021</td><td>1</td><td>6.2</td><td>13.0</td><td>0.2</td><td>0.2</td><td>6.8</td><td>null</td><td>null</td><td>null</td><td>null</td></tr><tr><td>2021-01-16T00:00:00Z</td><td>0</td><td>1.748916149139404</td><td>0.006824541506156999</td><td>0.0</td><td>40.09519921292796</td><td>0.416682749986649</td><td>0.023437287658452998</td><td>30.67869624959136</td><td>19.742434760678726</td><td>10.610156059265137</td><td>3.8377206652968914</td><td>2021</td><td>1</td><td>6.2</td><td>13.0</td><td>0.2</td><td>0.2</td><td>6.8</td><td>null</td><td>null</td><td>null</td><td>null</td></tr><tr><td>2021-01-18T00:00:00Z</td><td>0</td><td>71.52458953857422</td><td>1.0305037952989429</td><td>0.0</td><td>42.42807212721201</td><td>0.45554965734481795</td><td>0.022727081552148</td><td>29.3290093617096</td><td>23.170663435109176</td><td>8.91248607635498</td><td>3.6135844301309334</td><td>2021</td><td>1</td><td>6.2</td><td>13.0</td><td>0.2</td><td>0.2</td><td>6.8</td><td>null</td><td>null</td><td>null</td><td>null</td></tr></tbody></table></div>"
      ]
     },
     "metadata": {
      "application/vnd.databricks.v1+output": {
       "addedWidgets": {},
       "aggData": [],
       "aggError": "",
       "aggOverflow": false,
       "aggSchema": [],
       "aggSeriesLimitReached": false,
       "aggType": "",
       "arguments": {},
       "columnCustomDisplayInfos": {},
       "data": [
        [
         "2020-11-01T00:00:00Z",
         0,
         13.27205753326416,
         0.3399253977277619,
         0.0,
         58.22523365549257,
         0.463790744543076,
         0.0040077813901009994,
         24.989830709534775,
         19.2235199334174,
         10.093379020690918,
         3.406462699654476,
         2020,
         11,
         "6.2",
         13.0,
         0.2,
         0.2,
         6.8,
         0.39018727,
         0.966899991,
         -0.199999988,
         0.2014139
        ],
        [
         "2020-11-02T00:00:00Z",
         0,
         1.670286178588867,
         0.046344826218342995,
         0.0,
         51.444950218985745,
         0.444154173135757,
         0.006485901772976,
         27.939121257593268,
         20.428052061234226,
         7.767242908477782,
         3.1999174185259336,
         2020,
         11,
         "6.2",
         13.0,
         0.2,
         0.2,
         6.8,
         0.39018727,
         0.966899991,
         -0.199999988,
         0.2014139
        ],
        [
         "2020-11-03T00:00:00Z",
         0,
         1.6452790498733518,
         0.007782246540582,
         0.0,
         45.605731771346846,
         0.4274033010005949,
         0.009144559502602,
         28.94655776390912,
         21.908099112392197,
         7.9098405838012695,
         2.806550127339705,
         2020,
         11,
         "6.2",
         13.0,
         0.2,
         0.2,
         6.8,
         0.39018727,
         0.966899991,
         -0.199999988,
         0.2014139
        ],
        [
         "2020-11-04T00:00:00Z",
         0,
         29.678232192993164,
         3.0130910880032764,
         0.0,
         52.197555011148616,
         0.412576913833618,
         0.0106470156461,
         24.257280923532964,
         21.208240703887018,
         9.172279357910156,
         4.529827541838683,
         2020,
         11,
         "6.2",
         13.0,
         0.2,
         0.2,
         6.8,
         0.39018727,
         0.966899991,
         -0.199999988,
         0.2014139
        ],
        [
         "2020-11-05T00:00:00Z",
         0,
         33.587207794189446,
         2.2636986318593904,
         0.0,
         54.10890649163142,
         0.45890042185783403,
         0.011449042707681998,
         25.596029143612,
         14.972721808661802,
         10.640344619750977,
         4.751309602890596,
         2020,
         11,
         "6.2",
         13.0,
         0.2,
         0.2,
         6.8,
         0.39018727,
         0.966899991,
         -0.199999988,
         0.2014139
        ],
        [
         "2020-11-06T00:00:00Z",
         0,
         3.222622394561768,
         0.050766424114472,
         0.0,
         50.58870471182375,
         0.43619689345359797,
         0.010883253067732,
         28.00257503272754,
         16.873234188073674,
         9.485118865966797,
         3.371304748029274,
         2020,
         11,
         "6.2",
         13.0,
         0.2,
         0.2,
         6.8,
         0.39018727,
         0.966899991,
         -0.199999988,
         0.2014139
        ],
        [
         "2020-11-07T00:00:00Z",
         0,
         2.9123418331146236,
         0.11360939808612,
         0.0,
         47.57083337331669,
         0.41787841916084295,
         0.008597824722528,
         28.350017717434557,
         18.324019686920696,
         6.764839172363281,
         4.048133728666039,
         2020,
         11,
         "6.2",
         13.0,
         0.2,
         0.2,
         6.8,
         0.39018727,
         0.966899991,
         -0.199999988,
         0.2014139
        ],
        [
         "2020-11-08T00:00:00Z",
         0,
         1.060343265533447,
         0.031345508465952,
         0.0,
         47.116303651870965,
         0.403036117553711,
         0.006520930211991001,
         27.99228816468525,
         20.30107241110976,
         6.571534156799316,
         3.8686170221672613,
         2020,
         11,
         "6.2",
         13.0,
         0.2,
         0.2,
         6.8,
         0.39018727,
         0.966899991,
         -0.199999988,
         0.2014139
        ],
        [
         "2020-11-09T00:00:00Z",
         0,
         1.5815242528915412,
         0.048110594707656,
         0.0,
         46.91309277602192,
         0.389001727104187,
         0.005316022317857,
         27.376894369173737,
         21.92566841840948,
         7.831758975982666,
         3.6036956902628887,
         2020,
         11,
         "6.2",
         13.0,
         0.2,
         0.2,
         6.8,
         0.39018727,
         0.966899991,
         -0.199999988,
         0.2014139
        ],
        [
         "2020-11-10T00:00:00Z",
         0,
         1.494732975959778,
         0.05358677385336401,
         0.0,
         41.6356633806419,
         0.37637731432914706,
         0.0052936999127270006,
         28.169132911547432,
         24.194212822688797,
         9.174653053283693,
         3.967836515599783,
         2020,
         11,
         "6.2",
         13.0,
         0.2,
         0.2,
         6.8,
         0.39018727,
         0.966899991,
         -0.199999988,
         0.2014139
        ],
        [
         "2020-11-11T00:00:00Z",
         0,
         22.117555618286133,
         1.538630785670596,
         0.0,
         46.60485325922948,
         0.380894333124161,
         0.025124993175267996,
         25.560698556395927,
         24.251425363847822,
         9.251144409179688,
         4.256700108551963,
         2020,
         11,
         "6.2",
         13.0,
         0.2,
         0.2,
         6.8,
         0.39018727,
         0.966899991,
         -0.199999988,
         0.2014139
        ],
        [
         "2020-11-12T00:00:00Z",
         0,
         19.90384292602539,
         2.08149310276541,
         0.0,
         53.967675151379254,
         0.406127482652664,
         0.026112075895071,
         23.176751603458147,
         22.32307202641279,
         7.724566459655763,
         3.9339149431598077,
         2020,
         11,
         "6.2",
         13.0,
         0.2,
         0.2,
         6.8,
         0.39018727,
         0.966899991,
         -0.199999988,
         0.2014139
        ],
        [
         "2020-11-13T00:00:00Z",
         0,
         30.476207733154297,
         1.046204173942402,
         0.0,
         52.925885507209884,
         0.411324828863144,
         0.023070018738508002,
         25.65213197653271,
         20.01459996767339,
         5.491867542266847,
         3.276088964225368,
         2020,
         11,
         "6.2",
         13.0,
         0.2,
         0.2,
         6.8,
         0.39018727,
         0.966899991,
         -0.199999988,
         0.2014139
        ],
        [
         "2020-11-14T00:00:00Z",
         0,
         3.3514401912689213,
         0.043537484559886,
         0.0,
         40.86677177859276,
         0.399053066968918,
         0.024197202175856004,
         30.09234465134389,
         22.51633373750912,
         5.756511211395264,
         2.95546768131518,
         2020,
         11,
         "6.2",
         13.0,
         0.2,
         0.2,
         6.8,
         0.39018727,
         0.966899991,
         -0.199999988,
         0.2014139
        ],
        [
         "2020-11-15T00:00:00Z",
         0,
         1.0042606592178343,
         0.059935406484587006,
         0.0,
         32.02931382602696,
         0.378955215215683,
         0.024308828637003996,
         28.79806795123614,
         28.06857257577536,
         10.209171295166016,
         4.631494729093607,
         2020,
         11,
         "6.2",
         13.0,
         0.2,
         0.2,
         6.8,
         0.39018727,
         0.966899991,
         -0.199999988,
         0.2014139
        ],
        [
         "2020-11-16T00:00:00Z",
         0,
         5.852640151977539,
         0.09714893437008301,
         0.0,
         39.33784729596994,
         0.36654829978942893,
         0.024964181706308996,
         25.34631341769814,
         22.953270890201072,
         9.27674388885498,
         4.605340455350849,
         2020,
         11,
         "6.2",
         13.0,
         0.2,
         0.2,
         6.8,
         0.39018727,
         0.966899991,
         -0.199999988,
         0.2014139
        ],
        [
         "2020-11-17T00:00:00Z",
         0,
         9.891472816467283,
         0.259609271927097,
         0.0,
         39.8166021078225,
         0.38722768425941495,
         0.024750404059887002,
         30.34808795733745,
         20.957464773946775,
         6.573269367218018,
         3.369549225529183,
         2020,
         11,
         "6.2",
         13.0,
         0.2,
         0.2,
         6.8,
         0.39018727,
         0.966899991,
         -0.199999988,
         0.2014139
        ],
        [
         "2020-11-18T00:00:00Z",
         0,
         0.8160603046417241,
         0.0063077480463390005,
         0.0,
         40.21445419106919,
         0.38014635443687395,
         0.0242984239012,
         30.487009943598895,
         23.75116046167968,
         7.774772167205811,
         2.757537582079491,
         2020,
         11,
         "6.2",
         13.0,
         0.2,
         0.2,
         6.8,
         0.39018727,
         0.966899991,
         -0.199999988,
         0.2014139
        ],
        [
         "2020-11-19T00:00:00Z",
         0,
         0.12064587324857699,
         0.00260769752134,
         0.0,
         36.709926759406265,
         0.366588681936264,
         0.023655286058784003,
         29.6740170479954,
         26.936561230040677,
         8.130853652954103,
         2.9778309805934464,
         2020,
         11,
         "6.2",
         13.0,
         0.2,
         0.2,
         6.8,
         0.39018727,
         0.966899991,
         -0.199999988,
         0.2014139
        ],
        [
         "2020-11-20T00:00:00Z",
         0,
         4.320347309112549,
         0.11770844268352,
         0.0,
         34.87623430672413,
         0.35596123337745705,
         0.022845041006804002,
         29.193398918301483,
         28.3486949321573,
         5.843470096588135,
         2.8507135202312655,
         2020,
         11,
         "6.2",
         13.0,
         0.2,
         0.2,
         6.8,
         0.39018727,
         0.966899991,
         -0.199999988,
         0.2014139
        ],
        [
         "2020-11-21T00:00:00Z",
         0,
         2.51799201965332,
         0.242799538996901,
         0.0,
         39.77983139099833,
         0.35018080472946195,
         0.022471841424703997,
         25.354175853700557,
         28.82497751518414,
         8.229350090026855,
         2.8100418614817433,
         2020,
         11,
         "6.2",
         13.0,
         0.2,
         0.2,
         6.8,
         0.39018727,
         0.966899991,
         -0.199999988,
         0.2014139
        ],
        [
         "2020-11-22T00:00:00Z",
         0,
         23.10314750671387,
         2.3530137921472014,
         0.0,
         49.707182058710536,
         0.38016736507415794,
         0.019892759621143,
         21.806261591486216,
         27.21316350303556,
         6.188262462615968,
         3.0917861599755843,
         2020,
         11,
         "6.2",
         13.0,
         0.2,
         0.2,
         6.8,
         0.39018727,
         0.966899991,
         -0.199999988,
         0.2014139
        ],
        [
         "2020-11-23T00:00:00Z",
         0,
         30.20063591003418,
         2.069704239949992,
         0.0,
         60.11709428170239,
         0.42591798305511497,
         0.020856222137808998,
         24.3385308832234,
         22.33477169513272,
         8.94775104522705,
         4.420762300578622,
         2020,
         11,
         "6.2",
         13.0,
         0.2,
         0.2,
         6.8,
         0.39018727,
         0.966899991,
         -0.199999988,
         0.2014139
        ],
        [
         "2020-11-24T00:00:00Z",
         0,
         7.5174407958984375,
         0.21563916693451102,
         0.0,
         46.85637646736568,
         0.399018406867981,
         0.021130833774805,
         28.808812129044753,
         22.36838160293568,
         6.23686408996582,
         3.559540014591277,
         2020,
         11,
         "6.2",
         13.0,
         0.2,
         0.2,
         6.8,
         0.39018727,
         0.966899991,
         -0.199999988,
         0.2014139
        ],
        [
         "2020-11-25T00:00:00Z",
         0,
         1.6019922494888312,
         0.012981616596348,
         0.0,
         44.46173016551093,
         0.392564594745636,
         0.019960768520832003,
         29.07198769330163,
         25.052346654532425,
         5.382958889007568,
         2.400834277201558,
         2020,
         11,
         "6.2",
         13.0,
         0.2,
         0.2,
         6.8,
         0.39018727,
         0.966899991,
         -0.199999988,
         0.2014139
        ],
        [
         "2020-11-26T00:00:00Z",
         0,
         7.188323497772218,
         0.118483302247298,
         0.0,
         38.96477520667502,
         0.38066276907920793,
         0.018150242045522,
         29.73793744696897,
         27.95788000245564,
         7.262378215789795,
         3.0118475534481446,
         2020,
         11,
         "6.2",
         13.0,
         0.2,
         0.2,
         6.8,
         0.39018727,
         0.966899991,
         -0.199999988,
         0.2014139
        ],
        [
         "2020-11-27T00:00:00Z",
         0,
         1.128051161766052,
         0.011346640727256002,
         0.0,
         33.70679510727217,
         0.36242887377739,
         0.016725808382034,
         30.306270276483325,
         30.990381906135603,
         7.487201690673827,
         3.6929740101651345,
         2020,
         11,
         "6.2",
         13.0,
         0.2,
         0.2,
         6.8,
         0.39018727,
         0.966899991,
         -0.199999988,
         0.2014139
        ],
        [
         "2020-11-28T00:00:00Z",
         0,
         6.656005382537843,
         0.296905145710174,
         0.0,
         32.355040078805075,
         0.365666925907135,
         0.015689006075263,
         27.921186769462466,
         31.586007741732782,
         10.146722793579102,
         6.201957155418742,
         2020,
         11,
         "6.2",
         13.0,
         0.2,
         0.2,
         6.8,
         0.39018727,
         0.966899991,
         -0.199999988,
         0.2014139
        ],
        [
         "2020-11-29T00:00:00Z",
         0,
         2.345260858535767,
         0.08456281357823199,
         0.0,
         40.12010464987921,
         0.35910162329673795,
         0.015763983130455,
         29.460962388838283,
         25.123490681925546,
         10.296908378601074,
         4.7406153161358,
         2020,
         11,
         "6.2",
         13.0,
         0.2,
         0.2,
         6.8,
         0.39018727,
         0.966899991,
         -0.199999988,
         0.2014139
        ],
        [
         "2020-11-30T00:00:00Z",
         0,
         1.7054282426834109,
         0.035910918551376,
         0.0,
         40.43430059503577,
         0.346569031476974,
         0.014704460278153,
         29.619385923430535,
         27.59752189718288,
         11.076045036315918,
         3.545395913438139,
         2020,
         11,
         "6.2",
         13.0,
         0.2,
         0.2,
         6.8,
         0.39018727,
         0.966899991,
         -0.199999988,
         0.2014139
        ],
        [
         "2020-12-01T00:00:00Z",
         0,
         3.925304174423218,
         0.20614262519506701,
         0.0,
         39.67525588710498,
         0.34787195920944197,
         0.012876356951892001,
         27.916940596476003,
         26.888718511621093,
         10.057924270629883,
         5.700205174789671,
         2020,
         12,
         "6.2",
         13.0,
         0.2,
         0.2,
         6.8,
         0.371967327,
         0.978699982,
         -0.199999988,
         0.18858262
        ],
        [
         "2020-12-02T00:00:00Z",
         0,
         27.85914421081543,
         1.029014750212803,
         0.0,
         42.12612955605355,
         0.435497492551804,
         0.012689504772424998,
         26.58632450375373,
         22.40108431484571,
         7.790850639343263,
         4.010848456001109,
         2020,
         12,
         "6.2",
         13.0,
         0.2,
         0.2,
         6.8,
         0.371967327,
         0.978699982,
         -0.199999988,
         0.18858262
        ],
        [
         "2020-12-03T00:00:00Z",
         0,
         34.38506317138672,
         2.246047932285611,
         0.0,
         46.104475732201045,
         0.44970586895942705,
         0.012868078425527,
         24.640190682730573,
         23.742885441815577,
         5.560418128967285,
         2.688330581569613,
         2020,
         12,
         "6.2",
         13.0,
         0.2,
         0.2,
         6.8,
         0.371967327,
         0.978699982,
         -0.199999988,
         0.18858262
        ],
        [
         "2020-12-04T00:00:00Z",
         0,
         13.923713684082033,
         0.42572355785255894,
         0.0,
         35.201274194067715,
         0.446259081363678,
         0.013429039157927,
         28.940418747015165,
         26.469302714218003,
         7.2504987716674805,
         3.264957635415199,
         2020,
         12,
         "6.2",
         13.0,
         0.2,
         0.2,
         6.8,
         0.371967327,
         0.978699982,
         -0.199999988,
         0.18858262
        ],
        [
         "2020-12-05T00:00:00Z",
         0,
         33.28197479248047,
         5.09129696118497,
         0.0,
         61.58525349291954,
         0.442949771881104,
         0.015845699235796998,
         19.455424285499006,
         22.771994220288548,
         8.653835296630858,
         5.060146920723704,
         2020,
         12,
         "6.2",
         13.0,
         0.2,
         0.2,
         6.8,
         0.371967327,
         0.978699982,
         -0.199999988,
         0.18858262
        ],
        [
         "2020-12-06T00:00:00Z",
         0,
         7.099327564239503,
         0.224302238358919,
         0.0,
         43.8490428963032,
         0.42099317908287,
         0.014428791590034998,
         27.68945638751585,
         21.116127413377182,
         8.110058784484862,
         4.475261915325841,
         2020,
         12,
         "6.2",
         13.0,
         0.2,
         0.2,
         6.8,
         0.371967327,
         0.978699982,
         -0.199999988,
         0.18858262
        ],
        [
         "2020-12-07T00:00:00Z",
         0,
         22.71554946899414,
         0.6670087871699311,
         0.0,
         47.497153106623436,
         0.420860767364502,
         0.010237830691040001,
         26.69044059364561,
         18.290831325314745,
         8.13337230682373,
         5.357432116034956,
         2020,
         12,
         "6.2",
         13.0,
         0.2,
         0.2,
         6.8,
         0.371967327,
         0.978699982,
         -0.199999988,
         0.18858262
        ],
        [
         "2020-12-08T00:00:00Z",
         0,
         0.9294988512992859,
         0.01253714848467,
         0.0,
         42.210710851901524,
         0.404857009649277,
         0.009431499987841,
         31.891742571586303,
         17.726709203365303,
         7.559578895568848,
         2.935891451772554,
         2020,
         12,
         "6.2",
         13.0,
         0.2,
         0.2,
         6.8,
         0.371967327,
         0.978699982,
         -0.199999988,
         0.18858262
        ],
        [
         "2020-12-09T00:00:00Z",
         0,
         1.778662443161011,
         0.034324134783266,
         0.0,
         39.77406917850898,
         0.392949610948563,
         0.010164776816964,
         31.863436827682854,
         21.99188623000511,
         4.946291446685791,
         2.350451397605142,
         2020,
         12,
         "6.2",
         13.0,
         0.2,
         0.2,
         6.8,
         0.371967327,
         0.978699982,
         -0.199999988,
         0.18858262
        ],
        [
         "2020-12-10T00:00:00Z",
         0,
         42.57355117797852,
         1.7231804892083233,
         0.0,
         41.25263353568071,
         0.41584047675132796,
         0.010341946966946,
         28.22898026018413,
         23.2985337300676,
         8.39201831817627,
         4.720606630383331,
         2020,
         12,
         "6.2",
         13.0,
         0.2,
         0.2,
         6.8,
         0.371967327,
         0.978699982,
         -0.199999988,
         0.18858262
        ],
        [
         "2020-12-11T00:00:00Z",
         0,
         86.23925018310547,
         2.725500784477127,
         0.0,
         48.94882219520432,
         0.49826219677925104,
         0.008074507117271,
         26.8977362561828,
         21.793545880604725,
         8.106038093566895,
         5.530976323130617,
         2020,
         12,
         "6.2",
         13.0,
         0.2,
         0.2,
         6.8,
         0.371967327,
         0.978699982,
         -0.199999988,
         0.18858262
        ],
        [
         "2020-12-12T00:00:00Z",
         0,
         54.50175476074218,
         1.792150645393906,
         0.0,
         45.94219861773032,
         0.50159078836441,
         0.006354484707116999,
         27.15311057797184,
         22.34536436048905,
         8.383744239807129,
         5.534796376220411,
         2020,
         12,
         "6.2",
         13.0,
         0.2,
         0.2,
         6.8,
         0.371967327,
         0.978699982,
         -0.199999988,
         0.18858262
        ],
        [
         "2020-12-13T00:00:00Z",
         0,
         64.88746643066406,
         1.468325638177155,
         0.0,
         45.469779746610925,
         0.488575845956802,
         0.005500920582563001,
         26.50170426072289,
         23.78049038766521,
         9.060883522033693,
         4.678587306639793,
         2020,
         12,
         "6.2",
         13.0,
         0.2,
         0.2,
         6.8,
         0.371967327,
         0.978699982,
         -0.199999988,
         0.18858262
        ],
        [
         "2020-12-14T00:00:00Z",
         0,
         122.83405303955078,
         5.367399629382113,
         0.0,
         49.2013238141744,
         0.505251467227936,
         0.004489377606659999,
         23.898180267791144,
         25.30387793254607,
         9.222183227539062,
         4.223967584450286,
         2020,
         12,
         "6.2",
         13.0,
         0.2,
         0.2,
         6.8,
         0.371967327,
         0.978699982,
         -0.199999988,
         0.18858262
        ],
        [
         "2020-12-15T00:00:00Z",
         0,
         72.98918914794923,
         3.034916628545436,
         0.0,
         57.2135121626181,
         0.49241104722022994,
         0.0023094320204110003,
         23.14065413433196,
         26.56716597610044,
         7.54404878616333,
         3.2897592730604397,
         2020,
         12,
         "6.2",
         13.0,
         0.2,
         0.2,
         6.8,
         0.371967327,
         0.978699982,
         -0.199999988,
         0.18858262
        ],
        [
         "2020-12-16T00:00:00Z",
         0,
         35.070812225341804,
         7.218078828479147,
         0.0,
         66.041182940916,
         0.502116084098816,
         0.0015405801823359998,
         22.47927452765481,
         25.80395590263042,
         8.074869155883789,
         2.7746170531021233,
         2020,
         12,
         "6.2",
         13.0,
         0.2,
         0.2,
         6.8,
         0.371967327,
         0.978699982,
         -0.199999988,
         0.18858262
        ],
        [
         "2020-12-17T00:00:00Z",
         0,
         24.23879432678223,
         1.7011679216658258,
         0.0,
         53.064396488121474,
         0.493652313947678,
         7.32938060537E-4,
         25.615894559877372,
         26.848654229319678,
         7.750306129455566,
         4.1088882382527725,
         2020,
         12,
         "6.2",
         13.0,
         0.2,
         0.2,
         6.8,
         0.371967327,
         0.978699982,
         -0.199999988,
         0.18858262
        ],
        [
         "2020-12-18T00:00:00Z",
         0,
         44.58858489990234,
         3.348077822214739,
         0.0,
         48.46795700460538,
         0.485978782176971,
         0.001032087486237,
         27.588377073672646,
         22.567038412019645,
         9.531484603881836,
         3.809013232015647,
         2020,
         12,
         "6.2",
         13.0,
         0.2,
         0.2,
         6.8,
         0.371967327,
         0.978699982,
         -0.199999988,
         0.18858262
        ],
        [
         "2020-12-19T00:00:00Z",
         0,
         21.327999114990234,
         1.4970189970709142,
         0.0,
         45.4755934885704,
         0.49142327904701205,
         1.7326143279199999E-4,
         25.158902906003327,
         23.157187270253463,
         6.3423423767089835,
         3.1779458769136717,
         2020,
         12,
         "6.2",
         13.0,
         0.2,
         0.2,
         6.8,
         0.371967327,
         0.978699982,
         -0.199999988,
         0.18858262
        ],
        [
         "2020-12-20T00:00:00Z",
         0,
         39.864891052246094,
         5.276744416412887,
         0.0,
         53.75211395479181,
         0.494778364896774,
         0.02927009575069,
         19.550280265167675,
         21.981767944358534,
         6.266465663909912,
         2.730037827448212,
         2020,
         12,
         "6.2",
         13.0,
         0.2,
         0.2,
         6.8,
         0.371967327,
         0.978699982,
         -0.199999988,
         0.18858262
        ],
        [
         "2020-12-21T00:00:00Z",
         0,
         87.10911560058595,
         17.52792707085629,
         0.24054728448391002,
         86.0924630178463,
         0.49700027704238897,
         0.029053386300802002,
         9.882896513859848,
         18.364100911429283,
         6.114418506622314,
         3.135284228534385,
         2020,
         12,
         "6.2",
         13.0,
         0.2,
         0.2,
         6.8,
         0.371967327,
         0.978699982,
         -0.199999988,
         0.18858262
        ],
        [
         "2020-12-22T00:00:00Z",
         0,
         16.151086807250973,
         0.35339019207604,
         0.0,
         60.297039389909116,
         0.4840163290500639,
         0.028479274362325998,
         22.971061020247973,
         18.42376894470795,
         9.49613094329834,
         4.516508637029482,
         2020,
         12,
         "6.2",
         13.0,
         0.2,
         0.2,
         6.8,
         0.371967327,
         0.978699982,
         -0.199999988,
         0.18858262
        ],
        [
         "2020-12-23T00:00:00Z",
         0,
         8.642285346984862,
         0.108961457839045,
         0.0,
         54.24497406309945,
         0.45919269323349,
         0.02711789496243,
         26.767681684809947,
         20.629809928159407,
         7.450644493103027,
         2.66666923613713,
         2020,
         12,
         "6.2",
         13.0,
         0.2,
         0.2,
         6.8,
         0.371967327,
         0.978699982,
         -0.199999988,
         0.18858262
        ],
        [
         "2020-12-24T00:00:00Z",
         0,
         6.484077453613281,
         0.25398282510400305,
         0.0,
         49.42711793194538,
         0.44638055562973,
         0.026040224358438998,
         28.26081831467941,
         21.967898515284578,
         9.132940292358398,
         3.06715133392588,
         2020,
         12,
         "6.2",
         13.0,
         0.2,
         0.2,
         6.8,
         0.371967327,
         0.978699982,
         -0.199999988,
         0.18858262
        ],
        [
         "2020-12-25T00:00:00Z",
         0,
         23.67876625061035,
         0.769214597909725,
         0.0,
         46.6486627820152,
         0.464832484722137,
         0.023236282169819,
         28.919939079108683,
         22.93916980072497,
         7.358846664428711,
         2.979324228132438,
         2020,
         12,
         "6.2",
         13.0,
         0.2,
         0.2,
         6.8,
         0.371967327,
         0.978699982,
         -0.199999988,
         0.18858262
        ],
        [
         "2020-12-26T00:00:00Z",
         0,
         40.08298873901367,
         2.218592244751386,
         0.0,
         44.32240765858807,
         0.478004097938538,
         0.022286839783192004,
         29.137192163517327,
         25.182572861388305,
         9.340370178222656,
         3.0510237986630804,
         2020,
         12,
         "6.2",
         13.0,
         0.2,
         0.2,
         6.8,
         0.371967327,
         0.978699982,
         -0.199999988,
         0.18858262
        ],
        [
         "2020-12-27T00:00:00Z",
         0,
         7.021190166473389,
         0.46450047905402897,
         0.0,
         44.112514713314546,
         0.484929740428925,
         0.019814938306808,
         27.39468404003739,
         26.369766385813328,
         10.105573654174805,
         4.530190949977122,
         2020,
         12,
         "6.2",
         13.0,
         0.2,
         0.2,
         6.8,
         0.371967327,
         0.978699982,
         -0.199999988,
         0.18858262
        ],
        [
         "2020-12-28T00:00:00Z",
         0,
         57.43383026123047,
         4.4226359576118535,
         0.0,
         50.584429012849824,
         0.495402067899704,
         0.02026204392314,
         27.504701584458733,
         21.963295998430286,
         7.835866451263428,
         3.931054196661524,
         2020,
         12,
         "6.2",
         13.0,
         0.2,
         0.2,
         6.8,
         0.371967327,
         0.978699982,
         -0.199999988,
         0.18858262
        ],
        [
         "2020-12-29T00:00:00Z",
         0,
         62.20326232910156,
         3.846752883348697,
         0.0,
         53.935485737352934,
         0.501795053482056,
         0.022124286741017997,
         27.093747391046954,
         21.83059350661944,
         6.198524475097656,
         3.4742138243128133,
         2020,
         12,
         "6.2",
         13.0,
         0.2,
         0.2,
         6.8,
         0.371967327,
         0.978699982,
         -0.199999988,
         0.18858262
        ],
        [
         "2020-12-30T00:00:00Z",
         0,
         14.712054252624512,
         0.9157990212641509,
         0.0,
         52.78536009918722,
         0.47931197285652205,
         0.022715086117387,
         25.60845247939795,
         24.712778361266288,
         7.0530338287353525,
         3.6019559029693236,
         2020,
         12,
         "6.2",
         13.0,
         0.2,
         0.2,
         6.8,
         0.371967327,
         0.978699982,
         -0.199999988,
         0.18858262
        ],
        [
         "2020-12-31T00:00:00Z",
         0,
         25.82556533813477,
         2.778155871225398,
         0.0,
         61.83716450366294,
         0.4675338864326479,
         0.022823655977845,
         22.997365722580327,
         24.039219875600843,
         6.129159450531006,
         3.927450716065132,
         2020,
         12,
         "6.2",
         13.0,
         0.2,
         0.2,
         6.8,
         0.371967327,
         0.978699982,
         -0.199999988,
         0.18858262
        ],
        [
         "2021-01-01T00:00:00Z",
         0,
         40.29701232910156,
         4.085987187958095,
         1.0128415306099999E-4,
         67.98116438818927,
         0.47760510444641097,
         0.022607775405048998,
         22.06228356727868,
         22.54490683231915,
         6.103385925292969,
         3.942495133393561,
         2021,
         1,
         "6.2",
         13.0,
         0.2,
         0.2,
         6.8,
         null,
         null,
         null,
         null
        ],
        [
         "2021-01-02T00:00:00Z",
         0,
         29.08292961120605,
         8.60674714928216,
         0.129118859767914,
         76.27696495979757,
         0.495398879051208,
         0.022516664117575,
         21.526874435326125,
         22.204600712605785,
         8.737760543823242,
         2.5969991791405933,
         2021,
         1,
         "6.2",
         13.0,
         0.2,
         0.2,
         6.8,
         null,
         null,
         null,
         null
        ],
        [
         "2021-01-03T00:00:00Z",
         0,
         23.87236213684082,
         3.578028072945265,
         0.0,
         67.26803958402269,
         0.489507406949997,
         0.023662194609642,
         22.218555396870766,
         23.884376238749446,
         6.8478636741638175,
         2.390477058837715,
         2021,
         1,
         "6.2",
         13.0,
         0.2,
         0.2,
         6.8,
         null,
         null,
         null,
         null
        ],
        [
         "2021-01-04T00:00:00Z",
         0,
         40.234046936035156,
         7.288439612997412,
         0.0,
         70.01827490543853,
         0.499342054128647,
         0.022516038268805,
         23.46545972892473,
         22.084871166458868,
         6.7131099700927725,
         3.168225285769382,
         2021,
         1,
         "6.2",
         13.0,
         0.2,
         0.2,
         6.8,
         null,
         null,
         null,
         null
        ],
        [
         "2021-01-05T00:00:00Z",
         0,
         18.35224151611328,
         0.827639688770345,
         0.0,
         57.7044124434641,
         0.47935545444488503,
         0.022376900538802,
         26.773641640438964,
         23.14080777750888,
         7.926435470581055,
         3.722554686489353,
         2021,
         1,
         "6.2",
         13.0,
         0.2,
         0.2,
         6.8,
         null,
         null,
         null,
         null
        ],
        [
         "2021-01-06T00:00:00Z",
         0,
         88.14263153076173,
         3.5790363702773065,
         0.0,
         60.555968841653296,
         0.500856935977936,
         0.022749004885554,
         22.56985624574249,
         21.60552912328906,
         7.499741554260254,
         4.165374895128114,
         2021,
         1,
         "6.2",
         13.0,
         0.2,
         0.2,
         6.8,
         null,
         null,
         null,
         null
        ],
        [
         "2021-01-07T00:00:00Z",
         0,
         18.05879211425781,
         1.188123740002291,
         0.0,
         57.479930501570045,
         0.4953330457210539,
         0.020780768245459,
         23.986470407490078,
         21.96297906382913,
         7.445026874542236,
         4.635769995509313,
         2021,
         1,
         "6.2",
         13.0,
         0.2,
         0.2,
         6.8,
         null,
         null,
         null,
         null
        ],
        [
         "2021-01-08T00:00:00Z",
         0,
         12.009876251220705,
         0.453306398129891,
         0.0,
         52.19428194326892,
         0.484196424484253,
         0.021030174568295,
         26.67343185222889,
         22.079537296791624,
         6.336115837097168,
         4.138222464309202,
         2021,
         1,
         "6.2",
         13.0,
         0.2,
         0.2,
         6.8,
         null,
         null,
         null,
         null
        ],
        [
         "2021-01-09T00:00:00Z",
         0,
         6.146893501281737,
         0.198090604701876,
         0.0,
         50.424478984361,
         0.47400638461113,
         0.019196655601263,
         28.877405886829205,
         23.284360699272085,
         5.4105658531188965,
         3.302071581796098,
         2021,
         1,
         "6.2",
         13.0,
         0.2,
         0.2,
         6.8,
         null,
         null,
         null,
         null
        ],
        [
         "2021-01-12T00:00:00Z",
         0,
         3.5504353046417236,
         0.130828442975724,
         0.0,
         42.43400500314522,
         0.439250230789185,
         0.019855532795191002,
         30.37531346151844,
         27.294275151190234,
         5.59935998916626,
         2.673435803887189,
         2021,
         1,
         "6.2",
         13.0,
         0.2,
         0.2,
         6.8,
         null,
         null,
         null,
         null
        ],
        [
         "2021-01-13T00:00:00Z",
         0,
         1.090824246406555,
         0.023876476139700998,
         0.0,
         39.57196366404304,
         0.425807803869247,
         0.020572979003191,
         29.18751937509485,
         28.05115635470737,
         8.945328712463379,
         3.278359443451209,
         2021,
         1,
         "6.2",
         13.0,
         0.2,
         0.2,
         6.8,
         null,
         null,
         null,
         null
        ],
        [
         "2021-01-14T00:00:00Z",
         0,
         10.148445129394533,
         0.482931719516901,
         0.0,
         41.06056638453674,
         0.419122576713562,
         0.020084923133254,
         30.15020730578291,
         25.529908784443254,
         7.024410724639893,
         3.7977013413057183,
         2021,
         1,
         "6.2",
         13.0,
         0.2,
         0.2,
         6.8,
         null,
         null,
         null,
         null
        ],
        [
         "2021-01-15T00:00:00Z",
         0,
         23.26383781433105,
         0.548560648938396,
         0.0,
         37.711468868826216,
         0.432652056217194,
         0.022273443639278002,
         30.58026267976852,
         21.40977859981069,
         9.615673065185547,
         5.562818963822784,
         2021,
         1,
         "6.2",
         13.0,
         0.2,
         0.2,
         6.8,
         null,
         null,
         null,
         null
        ],
        [
         "2021-01-16T00:00:00Z",
         0,
         1.748916149139404,
         0.006824541506156999,
         0.0,
         40.09519921292796,
         0.416682749986649,
         0.023437287658452998,
         30.67869624959136,
         19.742434760678726,
         10.610156059265137,
         3.8377206652968914,
         2021,
         1,
         "6.2",
         13.0,
         0.2,
         0.2,
         6.8,
         null,
         null,
         null,
         null
        ],
        [
         "2021-01-18T00:00:00Z",
         0,
         71.52458953857422,
         1.0305037952989429,
         0.0,
         42.42807212721201,
         0.45554965734481795,
         0.022727081552148,
         29.3290093617096,
         23.170663435109176,
         8.91248607635498,
         3.6135844301309334,
         2021,
         1,
         "6.2",
         13.0,
         0.2,
         0.2,
         6.8,
         null,
         null,
         null,
         null
        ]
       ],
       "datasetInfos": [],
       "dbfsResultPath": null,
       "isJsonSchema": true,
       "metadata": {
        "dataframeName": "_sqldf",
        "executionCount": 40
       },
       "overflow": false,
       "plotOptions": {
        "customPlotOptions": {},
        "displayType": "table",
        "pivotAggregation": null,
        "pivotColumns": null,
        "xColumns": null,
        "yColumns": null
       },
       "removedWidgets": [],
       "schema": [
        {
         "metadata": "{}",
         "name": "Date",
         "type": "\"timestamp\""
        },
        {
         "metadata": "{}",
         "name": "Region",
         "type": "\"long\""
        },
        {
         "metadata": "{}",
         "name": "Precipitation_Max",
         "type": "\"double\""
        },
        {
         "metadata": "{}",
         "name": "Precipitation_Mean",
         "type": "\"double\""
        },
        {
         "metadata": "{}",
         "name": "Precipitation_Min",
         "type": "\"double\""
        },
        {
         "metadata": "{}",
         "name": "RelativeHumidity_Mean",
         "type": "\"double\""
        },
        {
         "metadata": "{}",
         "name": "SoilWaterContent_Max",
         "type": "\"double\""
        },
        {
         "metadata": "{}",
         "name": "SoilWaterContent_Min",
         "type": "\"double\""
        },
        {
         "metadata": "{}",
         "name": "SolarRadiation_Mean",
         "type": "\"double\""
        },
        {
         "metadata": "{}",
         "name": "Temperature_Mean",
         "type": "\"double\""
        },
        {
         "metadata": "{}",
         "name": "WindSpeed_Max",
         "type": "\"double\""
        },
        {
         "metadata": "{}",
         "name": "WindSpeed_Mean",
         "type": "\"double\""
        },
        {
         "metadata": "{}",
         "name": "Year",
         "type": "\"long\""
        },
        {
         "metadata": "{}",
         "name": "Month",
         "type": "\"long\""
        },
        {
         "metadata": "{}",
         "name": "Shrubs",
         "type": "\"string\""
        },
        {
         "metadata": "{}",
         "name": "Cultivated_and_managed_vegetation/agriculture__cropland_",
         "type": "\"double\""
        },
        {
         "metadata": "{}",
         "name": "Bare_/_sparse_vegetation",
         "type": "\"double\""
        },
        {
         "metadata": "{}",
         "name": "Permanent_water_bodies",
         "type": "\"double\""
        },
        {
         "metadata": "{}",
         "name": "Closed_forest__deciduous_broad_leaf",
         "type": "\"double\""
        },
        {
         "metadata": "{}",
         "name": "Vegetation_index_mean",
         "type": "\"double\""
        },
        {
         "metadata": "{}",
         "name": "Vegetation_index_max",
         "type": "\"double\""
        },
        {
         "metadata": "{}",
         "name": "Vegetation_index_min",
         "type": "\"double\""
        },
        {
         "metadata": "{}",
         "name": "Vegetation_index_std",
         "type": "\"double\""
        }
       ],
       "type": "table"
      }
     },
     "output_type": "display_data"
    }
   ],
   "source": [
    "%sql\n",
    "select * from  prediction_aus_wildfires.NSW_prediction_data"
   ]
  },
  {
   "cell_type": "code",
   "execution_count": 0,
   "metadata": {
    "application/vnd.databricks.v1+cell": {
     "cellMetadata": {},
     "inputWidgets": {},
     "nuid": "57ae08c0-9b0d-4078-8ed3-b641955741ce",
     "showTitle": false,
     "title": ""
    }
   },
   "outputs": [],
   "source": []
  }
 ],
 "metadata": {
  "application/vnd.databricks.v1+notebook": {
   "dashboards": [],
   "language": "python",
   "notebookMetadata": {
    "mostRecentlyExecutedCommandWithImplicitDF": {
     "commandId": 2453183741896278,
     "dataframes": [
      "_sqldf"
     ]
    },
    "pythonIndentUnit": 4
   },
   "notebookName": "Data_for_Prediction",
   "widgets": {}
  }
 },
 "nbformat": 4,
 "nbformat_minor": 0
}
